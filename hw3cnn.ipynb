{
 "cells": [
  {
   "cell_type": "markdown",
   "metadata": {
    "colab_type": "text",
    "id": "JIWQ_uMLqmQL"
   },
   "source": [
    "# Home 3: Build a CNN for image recognition.\n",
    "\n",
    "### Name: Colby Chaffin CWID: 10410591\n",
    "### \"I pledge my honor that I have abided by the Stevens Honor System\" -cchaffin\n"
   ]
  },
  {
   "cell_type": "markdown",
   "metadata": {
    "colab_type": "text",
    "id": "XdrEY2oyqmQM"
   },
   "source": [
    "## 0. You will do the following:\n",
    "\n",
    "1. Read, complete, and run my code.\n",
    "\n",
    "2. **Make substantial improvements** to maximize the accurcy.\n",
    "    \n",
    "3. Convert the .IPYNB file to .HTML file.\n",
    "\n",
    "    * The HTML file must contain the code and the output after execution.\n",
    "    \n",
    "4. Upload this .HTML file to your Github repo.\n",
    "\n",
    "4. Submit the link to this .HTML file to Canvas.\n",
    "\n",
    "    * Example: https://github.com/wangshusen/CS583A-2019Spring/blob/master/homework/HM3/cnn.html\n",
    "\n",
    "\n",
    "## Requirements:\n",
    "\n",
    "1. You can use whatever CNN architecture, including VGG, Inception, and ResNet. However, you must build the networks layer by layer. You must NOT import the archetectures from ```keras.applications```.\n",
    "\n",
    "2. Make sure ```BatchNormalization``` is between a ```Conv```/```Dense``` layer and an ```activation``` layer.\n",
    "\n",
    "3. If you want to regularize a ```Conv```/```Dense``` layer, you should place a ```Dropout``` layer **before** the ```Conv```/```Dense``` layer.\n",
    "\n",
    "4. An accuracy above 70% is considered reasonable. An accuracy above 80% is considered good. Without data augmentation, achieving 80% accuracy is difficult."
   ]
  },
  {
   "cell_type": "markdown",
   "metadata": {
    "colab_type": "text",
    "id": "gczI-pxDqmQM"
   },
   "source": [
    "## 1. Data preparation"
   ]
  },
  {
   "cell_type": "markdown",
   "metadata": {
    "colab_type": "text",
    "id": "f0-l-nKYqmQN"
   },
   "source": [
    "### 1.1. Load data\n"
   ]
  },
  {
   "cell_type": "code",
   "execution_count": 0,
   "metadata": {
    "colab": {
     "base_uri": "https://localhost:8080/",
     "height": 153
    },
    "colab_type": "code",
    "id": "B_yl4RahqmQO",
    "outputId": "8309bd20-548e-48fa-dc02-b0e1ff18ff4b"
   },
   "outputs": [
    {
     "name": "stderr",
     "output_type": "stream",
     "text": [
      "Using TensorFlow backend.\n"
     ]
    },
    {
     "name": "stdout",
     "output_type": "stream",
     "text": [
      "Downloading data from https://www.cs.toronto.edu/~kriz/cifar-10-python.tar.gz\n",
      "170500096/170498071 [==============================] - 3s 0us/step\n",
      "shape of x_train: (50000, 32, 32, 3)\n",
      "shape of y_train: (50000, 1)\n",
      "shape of x_test: (10000, 32, 32, 3)\n",
      "shape of y_test: (10000, 1)\n",
      "number of classes: 10\n"
     ]
    }
   ],
   "source": [
    "from keras.datasets import cifar10\n",
    "from keras.utils import to_categorical\n",
    "from keras.wrappers.scikit_learn import KerasClassifier\n",
    "from sklearn.model_selection import GridSearchCV\n",
    "from keras import optimizers\n",
    "\n",
    "import numpy as np\n",
    "\n",
    "(x_train, y_train), (x_test, y_test) = cifar10.load_data()\n",
    "\n",
    "print('shape of x_train: ' + str(x_train.shape))\n",
    "print('shape of y_train: ' + str(y_train.shape))\n",
    "print('shape of x_test: ' + str(x_test.shape))\n",
    "print('shape of y_test: ' + str(y_test.shape))\n",
    "print('number of classes: ' + str(np.max(y_train) - np.min(y_train) + 1))\n"
   ]
  },
  {
   "cell_type": "markdown",
   "metadata": {
    "colab_type": "text",
    "id": "ZaRardsNqmQT"
   },
   "source": [
    "### 1.2. One-hot encode the labels\n",
    "\n",
    "In the input, a label is a scalar in $\\{0, 1, \\cdots , 9\\}$. One-hot encode transform such a scalar to a $10$-dim vector. E.g., a scalar ```y_train[j]=3``` is transformed to the vector ```y_train_vec[j]=[0, 0, 0, 1, 0, 0, 0, 0, 0, 0]```.\n",
    "\n",
    "1. Define a function ```to_one_hot``` that transforms an $n\\times 1$ array to a $n\\times 10$ matrix.\n",
    "\n",
    "2. Apply the function to ```y_train``` and ```y_test```."
   ]
  },
  {
   "cell_type": "code",
   "execution_count": 0,
   "metadata": {
    "colab": {
     "base_uri": "https://localhost:8080/",
     "height": 85
    },
    "colab_type": "code",
    "id": "9s2Ar_rEqmQU",
    "outputId": "a8de1429-11ec-4851-8372-fc474feeb082"
   },
   "outputs": [
    {
     "name": "stdout",
     "output_type": "stream",
     "text": [
      "Shape of y_train_vec: (50000, 10)\n",
      "Shape of y_test_vec: (10000, 10)\n",
      "[6]\n",
      "[0. 0. 0. 0. 0. 0. 1. 0. 0. 0.]\n"
     ]
    }
   ],
   "source": [
    "def to_one_hot(y, num_class=10):\n",
    "    return to_categorical(y, num_classes=num_class)\n",
    "\n",
    "y_train_vec = to_one_hot(y_train)\n",
    "y_test_vec = to_one_hot(y_test)\n",
    "\n",
    "print('Shape of y_train_vec: ' + str(y_train_vec.shape))\n",
    "print('Shape of y_test_vec: ' + str(y_test_vec.shape))\n",
    "\n",
    "print(y_train[0])\n",
    "print(y_train_vec[0])"
   ]
  },
  {
   "cell_type": "markdown",
   "metadata": {
    "colab_type": "text",
    "id": "9kiJybqEqmQY"
   },
   "source": [
    "#### Remark: the outputs should be\n",
    "* Shape of y_train_vec: (50000, 10)\n",
    "* Shape of y_test_vec: (10000, 10)\n",
    "* [6]\n",
    "* [0. 0. 0. 0. 0. 0. 1. 0. 0. 0.]"
   ]
  },
  {
   "cell_type": "markdown",
   "metadata": {
    "colab_type": "text",
    "id": "LkG2tmokqmQY"
   },
   "source": [
    "### 1.3. Randomly partition the training set to training and validation sets\n",
    "\n",
    "Randomly partition the 50K training samples to 2 sets:\n",
    "* a training set containing 40K samples\n",
    "* a validation set containing 10K samples\n"
   ]
  },
  {
   "cell_type": "code",
   "execution_count": 0,
   "metadata": {
    "colab": {
     "base_uri": "https://localhost:8080/",
     "height": 85
    },
    "colab_type": "code",
    "id": "3Gm8kwJAqmQZ",
    "outputId": "1ae4c00c-73db-4ec3-ae73-a6efaccebfa4"
   },
   "outputs": [
    {
     "name": "stdout",
     "output_type": "stream",
     "text": [
      "Shape of x_tr: (40000, 32, 32, 3)\n",
      "Shape of y_tr: (40000, 10)\n",
      "Shape of x_val: (10000, 32, 32, 3)\n",
      "Shape of y_val: (10000, 10)\n"
     ]
    }
   ],
   "source": [
    "rand_indices = np.random.permutation(50000)\n",
    "train_indices = rand_indices[0:40000]\n",
    "valid_indices = rand_indices[40000:50000]\n",
    "\n",
    "x_val = x_train[valid_indices, :]\n",
    "y_val = y_train_vec[valid_indices, :]\n",
    "\n",
    "x_tr = x_train[train_indices, :]\n",
    "y_tr = y_train_vec[train_indices, :]\n",
    "\n",
    "print('Shape of x_tr: ' + str(x_tr.shape))\n",
    "print('Shape of y_tr: ' + str(y_tr.shape))\n",
    "print('Shape of x_val: ' + str(x_val.shape))\n",
    "print('Shape of y_val: ' + str(y_val.shape))"
   ]
  },
  {
   "cell_type": "markdown",
   "metadata": {
    "colab_type": "text",
    "id": "De-L87EvqmQd"
   },
   "source": [
    "## 2. Build a CNN and tune its hyper-parameters\n",
    "\n",
    "1. Build a convolutional neural network model\n",
    "2. Use the validation data to tune the hyper-parameters (e.g., network structure, and optimization algorithm)\n",
    "    * Do NOT use test data for hyper-parameter tuning!!!\n",
    "3. Try to achieve a validation accuracy as high as possible."
   ]
  },
  {
   "cell_type": "markdown",
   "metadata": {
    "colab_type": "text",
    "id": "68_m5QcJqmQd"
   },
   "source": [
    "### Remark: \n",
    "\n",
    "The following CNN is just an example. You are supposed to make **substantial improvements** such as:\n",
    "* Add more layers.\n",
    "* Use regularizations, e.g., dropout.\n",
    "* Use batch normalization."
   ]
  },
  {
   "cell_type": "code",
   "execution_count": 0,
   "metadata": {
    "colab": {},
    "colab_type": "code",
    "id": "lwOrRGHLqmQe"
   },
   "outputs": [],
   "source": [
    "from keras.layers import Conv2D, MaxPooling2D, Flatten, Dense, BatchNormalization, Activation, Dropout\n",
    "from keras.models import Sequential\n",
    "from keras import regularizers\n",
    "\n",
    "\n",
    "from keras.layers import Conv2D, MaxPooling2D, Flatten, Dense, Activation, BatchNormalization, Dropout\n",
    "from keras.models import Sequential\n",
    "\n",
    "def build_model():\n",
    "    model = Sequential()\n",
    "    model.add(Conv2D(32, (3, 3), padding='same', input_shape=(32, 32, 3)))\n",
    "    model.add(BatchNormalization())\n",
    "    model.add(Activation(\"relu\"))\n",
    "    model.add(MaxPooling2D((2, 2)))\n",
    "    \n",
    "    model.add(Conv2D(64, (3, 3), padding='same'))\n",
    "    model.add(BatchNormalization())\n",
    "    model.add(Activation(\"relu\"))\n",
    "    model.add(MaxPooling2D((2, 2)))\n",
    "    \n",
    "    model.add(Conv2D(128, (3, 3), padding='same'))\n",
    "    model.add(BatchNormalization())\n",
    "    model.add(Activation(\"relu\"))\n",
    "    model.add(MaxPooling2D((2, 2)))\n",
    "    \n",
    "    model.add(Dropout(0.5))\n",
    "    \n",
    "    model.add(Conv2D(256, (3, 3), padding='same'))\n",
    "    model.add(BatchNormalization())\n",
    "    model.add(Activation(\"relu\"))\n",
    "    model.add(MaxPooling2D((2, 2)))\n",
    "    \n",
    "    model.add(Flatten())\n",
    "    model.add(Dense(128, activation='relu'))\n",
    "    model.add(Dropout(0.5))\n",
    "    model.add(Dense(128, activation='relu'))\n",
    "    model.add(Dense(10, activation='softmax'))\n",
    "    return model"
   ]
  },
  {
   "cell_type": "markdown",
   "metadata": {
    "colab_type": "text",
    "id": "Z1BPzMCfXGSm"
   },
   "source": [
    "**Data Augmentation** - Using data augmentation to increase the number of training samples we are able to use for training the model."
   ]
  },
  {
   "cell_type": "code",
   "execution_count": 0,
   "metadata": {
    "colab": {},
    "colab_type": "code",
    "id": "MOwmno_qXeQJ"
   },
   "outputs": [],
   "source": [
    "from keras.preprocessing.image import ImageDataGenerator\n",
    "\n",
    "# data augmentation\n",
    "datagen = ImageDataGenerator(\n",
    "    rotation_range=20,\n",
    "    width_shift_range=0.2,\n",
    "    height_shift_range=0.2,\n",
    "    horizontal_flip=True)"
   ]
  },
  {
   "cell_type": "markdown",
   "metadata": {
    "colab_type": "text",
    "id": "lF3ViLfzXjDa"
   },
   "source": [
    "**Hyperparams**"
   ]
  },
  {
   "cell_type": "code",
   "execution_count": 0,
   "metadata": {
    "colab": {},
    "colab_type": "code",
    "id": "VoqQwnqEqmQk"
   },
   "outputs": [],
   "source": [
    "learning_rate = 1E-4 # to be tuned!\n",
    "batch_size = 64\n",
    "epochs = 50\n",
    "steps_per_epoch = len(x_tr) // batch_size"
   ]
  },
  {
   "cell_type": "markdown",
   "metadata": {
    "colab_type": "text",
    "id": "9MwBD-16Xn4P"
   },
   "source": [
    "**Tuning Hyperparameters for more optimal performance**"
   ]
  },
  {
   "cell_type": "code",
   "execution_count": 0,
   "metadata": {
    "colab": {
     "base_uri": "https://localhost:8080/",
     "height": 2757
    },
    "colab_type": "code",
    "id": "zujpqGKdqmQm",
    "outputId": "43cbaf36-c6ac-4053-9cf3-5154d18bfeb1"
   },
   "outputs": [
    {
     "name": "stdout",
     "output_type": "stream",
     "text": [
      "WARNING:tensorflow:From /usr/local/lib/python3.6/dist-packages/tensorflow/python/framework/op_def_library.py:263: colocate_with (from tensorflow.python.framework.ops) is deprecated and will be removed in a future version.\n",
      "Instructions for updating:\n",
      "Colocations handled automatically by placer.\n",
      "WARNING:tensorflow:From /usr/local/lib/python3.6/dist-packages/keras/backend/tensorflow_backend.py:3445: calling dropout (from tensorflow.python.ops.nn_ops) with keep_prob is deprecated and will be removed in a future version.\n",
      "Instructions for updating:\n",
      "Please use `rate` instead of `keep_prob`. Rate should be set to `rate = 1 - keep_prob`.\n",
      "_________________________________________________________________\n",
      "Layer (type)                 Output Shape              Param #   \n",
      "=================================================================\n",
      "conv2d_1 (Conv2D)            (None, 32, 32, 32)        896       \n",
      "_________________________________________________________________\n",
      "batch_normalization_1 (Batch (None, 32, 32, 32)        128       \n",
      "_________________________________________________________________\n",
      "activation_1 (Activation)    (None, 32, 32, 32)        0         \n",
      "_________________________________________________________________\n",
      "max_pooling2d_1 (MaxPooling2 (None, 16, 16, 32)        0         \n",
      "_________________________________________________________________\n",
      "conv2d_2 (Conv2D)            (None, 16, 16, 64)        18496     \n",
      "_________________________________________________________________\n",
      "batch_normalization_2 (Batch (None, 16, 16, 64)        256       \n",
      "_________________________________________________________________\n",
      "activation_2 (Activation)    (None, 16, 16, 64)        0         \n",
      "_________________________________________________________________\n",
      "max_pooling2d_2 (MaxPooling2 (None, 8, 8, 64)          0         \n",
      "_________________________________________________________________\n",
      "conv2d_3 (Conv2D)            (None, 8, 8, 128)         73856     \n",
      "_________________________________________________________________\n",
      "batch_normalization_3 (Batch (None, 8, 8, 128)         512       \n",
      "_________________________________________________________________\n",
      "activation_3 (Activation)    (None, 8, 8, 128)         0         \n",
      "_________________________________________________________________\n",
      "max_pooling2d_3 (MaxPooling2 (None, 4, 4, 128)         0         \n",
      "_________________________________________________________________\n",
      "dropout_1 (Dropout)          (None, 4, 4, 128)         0         \n",
      "_________________________________________________________________\n",
      "conv2d_4 (Conv2D)            (None, 4, 4, 256)         295168    \n",
      "_________________________________________________________________\n",
      "batch_normalization_4 (Batch (None, 4, 4, 256)         1024      \n",
      "_________________________________________________________________\n",
      "activation_4 (Activation)    (None, 4, 4, 256)         0         \n",
      "_________________________________________________________________\n",
      "max_pooling2d_4 (MaxPooling2 (None, 2, 2, 256)         0         \n",
      "_________________________________________________________________\n",
      "flatten_1 (Flatten)          (None, 1024)              0         \n",
      "_________________________________________________________________\n",
      "dense_1 (Dense)              (None, 128)               131200    \n",
      "_________________________________________________________________\n",
      "dropout_2 (Dropout)          (None, 128)               0         \n",
      "_________________________________________________________________\n",
      "dense_2 (Dense)              (None, 128)               16512     \n",
      "_________________________________________________________________\n",
      "dense_3 (Dense)              (None, 10)                1290      \n",
      "=================================================================\n",
      "Total params: 539,338\n",
      "Trainable params: 538,378\n",
      "Non-trainable params: 960\n",
      "_________________________________________________________________\n",
      "WARNING:tensorflow:From /usr/local/lib/python3.6/dist-packages/tensorflow/python/ops/math_ops.py:3066: to_int32 (from tensorflow.python.ops.math_ops) is deprecated and will be removed in a future version.\n",
      "Instructions for updating:\n",
      "Use tf.cast instead.\n",
      "Epoch 1/50\n",
      "625/625 [==============================] - 22s 36ms/step - loss: 2.0430 - acc: 0.2390 - val_loss: 1.7645 - val_acc: 0.3628\n",
      "Epoch 2/50\n",
      "625/625 [==============================] - 18s 29ms/step - loss: 1.7965 - acc: 0.3246 - val_loss: 1.5789 - val_acc: 0.4235\n",
      "Epoch 3/50\n",
      "625/625 [==============================] - 20s 32ms/step - loss: 1.7028 - acc: 0.3688 - val_loss: 1.6509 - val_acc: 0.3965\n",
      "Epoch 4/50\n",
      "625/625 [==============================] - 19s 31ms/step - loss: 1.6382 - acc: 0.3974 - val_loss: 1.5220 - val_acc: 0.4587\n",
      "Epoch 5/50\n",
      "625/625 [==============================] - 18s 29ms/step - loss: 1.5817 - acc: 0.4184 - val_loss: 1.4853 - val_acc: 0.4720\n",
      "Epoch 6/50\n",
      "625/625 [==============================] - 18s 29ms/step - loss: 1.5392 - acc: 0.4359 - val_loss: 1.3837 - val_acc: 0.4978\n",
      "Epoch 7/50\n",
      "625/625 [==============================] - 20s 32ms/step - loss: 1.5008 - acc: 0.4536 - val_loss: 1.4610 - val_acc: 0.4835\n",
      "Epoch 8/50\n",
      "625/625 [==============================] - 18s 29ms/step - loss: 1.4622 - acc: 0.4672 - val_loss: 1.4497 - val_acc: 0.4960\n",
      "Epoch 9/50\n",
      "625/625 [==============================] - 18s 30ms/step - loss: 1.4345 - acc: 0.4780 - val_loss: 1.2288 - val_acc: 0.5475\n",
      "Epoch 10/50\n",
      "625/625 [==============================] - 18s 30ms/step - loss: 1.4102 - acc: 0.4907 - val_loss: 1.2681 - val_acc: 0.5431\n",
      "Epoch 11/50\n",
      "625/625 [==============================] - 20s 32ms/step - loss: 1.3829 - acc: 0.4983 - val_loss: 1.3037 - val_acc: 0.5330\n",
      "Epoch 12/50\n",
      "625/625 [==============================] - 18s 29ms/step - loss: 1.3622 - acc: 0.5088 - val_loss: 1.1679 - val_acc: 0.5797\n",
      "Epoch 13/50\n",
      "625/625 [==============================] - 18s 29ms/step - loss: 1.3439 - acc: 0.5167 - val_loss: 1.2592 - val_acc: 0.5575\n",
      "Epoch 14/50\n",
      "625/625 [==============================] - 18s 29ms/step - loss: 1.3206 - acc: 0.5260 - val_loss: 1.3531 - val_acc: 0.5476\n",
      "Epoch 15/50\n",
      "625/625 [==============================] - 21s 33ms/step - loss: 1.3054 - acc: 0.5326 - val_loss: 1.2292 - val_acc: 0.5771\n",
      "Epoch 16/50\n",
      "625/625 [==============================] - 19s 31ms/step - loss: 1.2939 - acc: 0.5373 - val_loss: 1.3685 - val_acc: 0.5389\n",
      "Epoch 17/50\n",
      "625/625 [==============================] - 18s 30ms/step - loss: 1.2728 - acc: 0.5417 - val_loss: 1.2092 - val_acc: 0.5782\n",
      "Epoch 18/50\n",
      "625/625 [==============================] - 18s 30ms/step - loss: 1.2586 - acc: 0.5514 - val_loss: 1.0942 - val_acc: 0.6142\n",
      "Epoch 19/50\n",
      "625/625 [==============================] - 18s 30ms/step - loss: 1.2454 - acc: 0.5542 - val_loss: 1.2170 - val_acc: 0.5810\n",
      "Epoch 20/50\n",
      "625/625 [==============================] - 20s 32ms/step - loss: 1.2304 - acc: 0.5598 - val_loss: 1.1103 - val_acc: 0.6072\n",
      "Epoch 21/50\n",
      "625/625 [==============================] - 18s 29ms/step - loss: 1.2221 - acc: 0.5650 - val_loss: 1.0548 - val_acc: 0.6297\n",
      "Epoch 22/50\n",
      "625/625 [==============================] - 19s 30ms/step - loss: 1.2074 - acc: 0.5686 - val_loss: 1.1308 - val_acc: 0.5880\n",
      "Epoch 23/50\n",
      "625/625 [==============================] - 18s 29ms/step - loss: 1.1953 - acc: 0.5730 - val_loss: 1.0134 - val_acc: 0.6466\n",
      "Epoch 24/50\n",
      "625/625 [==============================] - 20s 32ms/step - loss: 1.1785 - acc: 0.5788 - val_loss: 1.0757 - val_acc: 0.6256\n",
      "Epoch 25/50\n",
      "625/625 [==============================] - 18s 30ms/step - loss: 1.1753 - acc: 0.5842 - val_loss: 1.0851 - val_acc: 0.6186\n",
      "Epoch 26/50\n",
      "625/625 [==============================] - 19s 30ms/step - loss: 1.1654 - acc: 0.5868 - val_loss: 1.0649 - val_acc: 0.6219\n",
      "Epoch 27/50\n",
      "625/625 [==============================] - 18s 29ms/step - loss: 1.1500 - acc: 0.5912 - val_loss: 1.0265 - val_acc: 0.6410\n",
      "Epoch 28/50\n",
      "625/625 [==============================] - 20s 31ms/step - loss: 1.1421 - acc: 0.5968 - val_loss: 0.9803 - val_acc: 0.6547\n",
      "Epoch 29/50\n",
      "625/625 [==============================] - 19s 30ms/step - loss: 1.1334 - acc: 0.5978 - val_loss: 1.0610 - val_acc: 0.6309\n",
      "Epoch 30/50\n",
      "625/625 [==============================] - 18s 29ms/step - loss: 1.1236 - acc: 0.6032 - val_loss: 1.1007 - val_acc: 0.6329\n",
      "Epoch 31/50\n",
      "625/625 [==============================] - 20s 31ms/step - loss: 1.1229 - acc: 0.6041 - val_loss: 1.0531 - val_acc: 0.6329\n",
      "Epoch 32/50\n",
      "625/625 [==============================] - 20s 31ms/step - loss: 1.1076 - acc: 0.6111 - val_loss: 1.0354 - val_acc: 0.6366\n",
      "Epoch 33/50\n",
      "625/625 [==============================] - 19s 31ms/step - loss: 1.1042 - acc: 0.6101 - val_loss: 0.9915 - val_acc: 0.6575\n",
      "Epoch 34/50\n",
      "625/625 [==============================] - 18s 30ms/step - loss: 1.0928 - acc: 0.6155 - val_loss: 0.9604 - val_acc: 0.6642\n",
      "Epoch 35/50\n",
      "625/625 [==============================] - 18s 30ms/step - loss: 1.0894 - acc: 0.6170 - val_loss: 1.0381 - val_acc: 0.6463\n",
      "Epoch 36/50\n",
      "625/625 [==============================] - 19s 31ms/step - loss: 1.0757 - acc: 0.6198 - val_loss: 0.9298 - val_acc: 0.6832\n",
      "Epoch 37/50\n",
      "625/625 [==============================] - 20s 32ms/step - loss: 1.0704 - acc: 0.6257 - val_loss: 1.0080 - val_acc: 0.6598\n",
      "Epoch 38/50\n",
      "625/625 [==============================] - 19s 30ms/step - loss: 1.0549 - acc: 0.6306 - val_loss: 0.8907 - val_acc: 0.6927\n",
      "Epoch 39/50\n",
      "625/625 [==============================] - 19s 30ms/step - loss: 1.0561 - acc: 0.6302 - val_loss: 0.9955 - val_acc: 0.6531\n",
      "Epoch 40/50\n",
      "625/625 [==============================] - 19s 30ms/step - loss: 1.0556 - acc: 0.6276 - val_loss: 1.0182 - val_acc: 0.6442\n",
      "Epoch 41/50\n",
      "625/625 [==============================] - 20s 32ms/step - loss: 1.0495 - acc: 0.6307 - val_loss: 1.0414 - val_acc: 0.6413\n",
      "Epoch 42/50\n",
      "625/625 [==============================] - 19s 30ms/step - loss: 1.0451 - acc: 0.6342 - val_loss: 1.0291 - val_acc: 0.6446\n",
      "Epoch 43/50\n",
      "625/625 [==============================] - 18s 29ms/step - loss: 1.0326 - acc: 0.6386 - val_loss: 0.9792 - val_acc: 0.6552\n",
      "Epoch 44/50\n",
      "625/625 [==============================] - 18s 29ms/step - loss: 1.0279 - acc: 0.6384 - val_loss: 0.9738 - val_acc: 0.6521\n",
      "Epoch 45/50\n",
      "625/625 [==============================] - 20s 32ms/step - loss: 1.0135 - acc: 0.6431 - val_loss: 0.9401 - val_acc: 0.6795\n",
      "Epoch 46/50\n",
      "625/625 [==============================] - 18s 29ms/step - loss: 1.0134 - acc: 0.6466 - val_loss: 0.9338 - val_acc: 0.6728\n",
      "Epoch 47/50\n",
      "625/625 [==============================] - 18s 29ms/step - loss: 1.0142 - acc: 0.6443 - val_loss: 0.8410 - val_acc: 0.7059\n",
      "Epoch 48/50\n",
      "625/625 [==============================] - 20s 32ms/step - loss: 1.0054 - acc: 0.6473 - val_loss: 0.8983 - val_acc: 0.6935\n",
      "Epoch 49/50\n",
      "625/625 [==============================] - 19s 31ms/step - loss: 0.9997 - acc: 0.6524 - val_loss: 0.9393 - val_acc: 0.6704\n",
      "Epoch 50/50\n",
      "625/625 [==============================] - 19s 30ms/step - loss: 0.9879 - acc: 0.6545 - val_loss: 0.8377 - val_acc: 0.7066\n"
     ]
    }
   ],
   "source": [
    "model = build_model()\n",
    "model.summary()\n",
    "\n",
    "model.compile(loss='categorical_crossentropy',\n",
    "              optimizer=optimizers.RMSprop(lr=learning_rate),\n",
    "              metrics=['acc'])\n",
    "\n",
    "history = model.fit_generator(datagen.flow(x_tr, y_tr, batch_size=batch_size),\n",
    "                              steps_per_epoch=steps_per_epoch,\n",
    "                              epochs=epochs,\n",
    "                              validation_data=(x_val, y_val))\n",
    "model.save('cifar10.h5')"
   ]
  },
  {
   "cell_type": "code",
   "execution_count": 0,
   "metadata": {
    "colab": {},
    "colab_type": "code",
    "id": "5IDjWKpcqmQp"
   },
   "outputs": [],
   "source": [
    "##history = model.fit(x_tr, y_tr, batch_size=32, epochs=10, validation_data=(x_val, y_val))"
   ]
  },
  {
   "cell_type": "markdown",
   "metadata": {
    "colab_type": "text",
    "id": "HuoDX3aiXy2Q"
   },
   "source": [
    "**Plot results for Hyperparams**"
   ]
  },
  {
   "cell_type": "code",
   "execution_count": 0,
   "metadata": {
    "colab": {
     "base_uri": "https://localhost:8080/",
     "height": 283
    },
    "colab_type": "code",
    "id": "4_Ap1HLUqmQs",
    "outputId": "b70c9963-bd4c-4940-dcad-d4e56201e8c4"
   },
   "outputs": [
    {
     "data": {
      "image/png": "[encoded data removed]",
      "text/plain": [
       "<Figure size 432x288 with 1 Axes>"
      ]
     },
     "metadata": {
      "tags": []
     },
     "output_type": "display_data"
    }
   ],
   "source": [
    "import matplotlib.pyplot as plt\n",
    "%matplotlib inline\n",
    "\n",
    "acc = history.history['acc']\n",
    "val_acc = history.history['val_acc']\n",
    "\n",
    "epochs = range(len(acc))\n",
    "\n",
    "plt.plot(epochs, acc, 'bo', label='Training acc')\n",
    "plt.plot(epochs, val_acc, 'r', label='Validation acc')\n",
    "plt.xlabel('Epochs')\n",
    "plt.ylabel('Accuracy')\n",
    "plt.legend()\n",
    "plt.show()"
   ]
  },
  {
   "cell_type": "markdown",
   "metadata": {
    "colab_type": "text",
    "id": "sR-_1N5VqmQx"
   },
   "source": [
    "## 3. Train (again) and evaluate the model\n",
    "\n",
    "- To this end, you have found the \"best\" hyper-parameters. \n",
    "- Now, fix the hyper-parameters and train the network on the entire training set (all the 50K training samples)\n",
    "- Evaluate your model on the test set."
   ]
  },
  {
   "cell_type": "markdown",
   "metadata": {
    "colab_type": "text",
    "id": "EZWwN4liqmQy"
   },
   "source": [
    "### 3.1. Train the model on the entire training set\n",
    "\n",
    "Why? Previously, you used 40K samples for training; you wasted 10K samples for the sake of hyper-parameter tuning. Now you already know the hyper-parameters, so why not using all the 50K samples for training?"
   ]
  },
  {
   "cell_type": "code",
   "execution_count": 0,
   "metadata": {
    "colab": {
     "base_uri": "https://localhost:8080/",
     "height": 884
    },
    "colab_type": "code",
    "id": "ogzufUzOqmQz",
    "outputId": "d7d1e95b-8412-4bc6-d6e8-999add4d6dac"
   },
   "outputs": [
    {
     "name": "stdout",
     "output_type": "stream",
     "text": [
      "_________________________________________________________________\n",
      "Layer (type)                 Output Shape              Param #   \n",
      "=================================================================\n",
      "conv2d_1 (Conv2D)            (None, 32, 32, 32)        896       \n",
      "_________________________________________________________________\n",
      "batch_normalization_1 (Batch (None, 32, 32, 32)        128       \n",
      "_________________________________________________________________\n",
      "activation_1 (Activation)    (None, 32, 32, 32)        0         \n",
      "_________________________________________________________________\n",
      "max_pooling2d_1 (MaxPooling2 (None, 16, 16, 32)        0         \n",
      "_________________________________________________________________\n",
      "conv2d_2 (Conv2D)            (None, 16, 16, 64)        18496     \n",
      "_________________________________________________________________\n",
      "batch_normalization_2 (Batch (None, 16, 16, 64)        256       \n",
      "_________________________________________________________________\n",
      "activation_2 (Activation)    (None, 16, 16, 64)        0         \n",
      "_________________________________________________________________\n",
      "max_pooling2d_2 (MaxPooling2 (None, 8, 8, 64)          0         \n",
      "_________________________________________________________________\n",
      "conv2d_3 (Conv2D)            (None, 8, 8, 128)         73856     \n",
      "_________________________________________________________________\n",
      "batch_normalization_3 (Batch (None, 8, 8, 128)         512       \n",
      "_________________________________________________________________\n",
      "activation_3 (Activation)    (None, 8, 8, 128)         0         \n",
      "_________________________________________________________________\n",
      "max_pooling2d_3 (MaxPooling2 (None, 4, 4, 128)         0         \n",
      "_________________________________________________________________\n",
      "dropout_1 (Dropout)          (None, 4, 4, 128)         0         \n",
      "_________________________________________________________________\n",
      "conv2d_4 (Conv2D)            (None, 4, 4, 256)         295168    \n",
      "_________________________________________________________________\n",
      "batch_normalization_4 (Batch (None, 4, 4, 256)         1024      \n",
      "_________________________________________________________________\n",
      "activation_4 (Activation)    (None, 4, 4, 256)         0         \n",
      "_________________________________________________________________\n",
      "max_pooling2d_4 (MaxPooling2 (None, 2, 2, 256)         0         \n",
      "_________________________________________________________________\n",
      "flatten_1 (Flatten)          (None, 1024)              0         \n",
      "_________________________________________________________________\n",
      "dense_1 (Dense)              (None, 128)               131200    \n",
      "_________________________________________________________________\n",
      "dropout_2 (Dropout)          (None, 128)               0         \n",
      "_________________________________________________________________\n",
      "dense_2 (Dense)              (None, 128)               16512     \n",
      "_________________________________________________________________\n",
      "dense_3 (Dense)              (None, 10)                1290      \n",
      "=================================================================\n",
      "Total params: 539,338\n",
      "Trainable params: 538,378\n",
      "Non-trainable params: 960\n",
      "_________________________________________________________________\n"
     ]
    }
   ],
   "source": [
    "fin_model = build_model()\n",
    "\n",
    "fin_model.compile(loss='categorical_crossentropy',\n",
    "              optimizer=optimizers.RMSprop(lr=learning_rate),\n",
    "              metrics=['acc'])\n",
    "\n",
    "model.summary()"
   ]
  },
  {
   "cell_type": "code",
   "execution_count": 0,
   "metadata": {
    "colab": {
     "base_uri": "https://localhost:8080/",
     "height": 5117
    },
    "colab_type": "code",
    "id": "y8LxJvuSqmQ2",
    "outputId": "571d63d5-fc91-4f24-f87d-6029765a39a4"
   },
   "outputs": [
    {
     "name": "stdout",
     "output_type": "stream",
     "text": [
      "Epoch 1/150\n",
      "625/625 [==============================] - 21s 33ms/step - loss: 2.0437 - acc: 0.2373\n",
      "Epoch 2/150\n",
      "625/625 [==============================] - 19s 30ms/step - loss: 1.8024 - acc: 0.3252\n",
      "Epoch 3/150\n",
      "625/625 [==============================] - 18s 29ms/step - loss: 1.7120 - acc: 0.3620\n",
      "Epoch 4/150\n",
      "625/625 [==============================] - 18s 29ms/step - loss: 1.6343 - acc: 0.3962\n",
      "Epoch 5/150\n",
      "625/625 [==============================] - 20s 31ms/step - loss: 1.5844 - acc: 0.4124\n",
      "Epoch 6/150\n",
      "625/625 [==============================] - 18s 29ms/step - loss: 1.5392 - acc: 0.4366\n",
      "Epoch 7/150\n",
      "625/625 [==============================] - 18s 29ms/step - loss: 1.5079 - acc: 0.4485\n",
      "Epoch 8/150\n",
      "625/625 [==============================] - 18s 29ms/step - loss: 1.4676 - acc: 0.4678\n",
      "Epoch 9/150\n",
      "625/625 [==============================] - 19s 30ms/step - loss: 1.4442 - acc: 0.4771\n",
      "Epoch 10/150\n",
      "625/625 [==============================] - 19s 30ms/step - loss: 1.4191 - acc: 0.4852\n",
      "Epoch 11/150\n",
      "625/625 [==============================] - 18s 29ms/step - loss: 1.3867 - acc: 0.4997\n",
      "Epoch 12/150\n",
      "625/625 [==============================] - 18s 29ms/step - loss: 1.3778 - acc: 0.5029\n",
      "Epoch 13/150\n",
      "625/625 [==============================] - 18s 29ms/step - loss: 1.3474 - acc: 0.5144\n",
      "Epoch 14/150\n",
      "625/625 [==============================] - 20s 31ms/step - loss: 1.3423 - acc: 0.5183\n",
      "Epoch 15/150\n",
      "625/625 [==============================] - 20s 32ms/step - loss: 1.3172 - acc: 0.5301\n",
      "Epoch 16/150\n",
      "625/625 [==============================] - 18s 29ms/step - loss: 1.3075 - acc: 0.5357\n",
      "Epoch 17/150\n",
      "625/625 [==============================] - 19s 31ms/step - loss: 1.2876 - acc: 0.5411\n",
      "Epoch 18/150\n",
      "625/625 [==============================] - 20s 32ms/step - loss: 1.2727 - acc: 0.5444\n",
      "Epoch 19/150\n",
      "625/625 [==============================] - 18s 29ms/step - loss: 1.2524 - acc: 0.5540\n",
      "Epoch 20/150\n",
      "625/625 [==============================] - 18s 29ms/step - loss: 1.2435 - acc: 0.5599\n",
      "Epoch 21/150\n",
      "625/625 [==============================] - 18s 29ms/step - loss: 1.2329 - acc: 0.5610\n",
      "Epoch 22/150\n",
      "625/625 [==============================] - 20s 32ms/step - loss: 1.2182 - acc: 0.5672\n",
      "Epoch 23/150\n",
      "625/625 [==============================] - 18s 29ms/step - loss: 1.2081 - acc: 0.5734\n",
      "Epoch 24/150\n",
      "625/625 [==============================] - 18s 29ms/step - loss: 1.2009 - acc: 0.5758\n",
      "Epoch 25/150\n",
      "625/625 [==============================] - 18s 29ms/step - loss: 1.1941 - acc: 0.5774\n",
      "Epoch 26/150\n",
      "625/625 [==============================] - 19s 30ms/step - loss: 1.1728 - acc: 0.5849\n",
      "Epoch 27/150\n",
      "625/625 [==============================] - 19s 31ms/step - loss: 1.1662 - acc: 0.5884\n",
      "Epoch 28/150\n",
      "625/625 [==============================] - 18s 29ms/step - loss: 1.1575 - acc: 0.5923\n",
      "Epoch 29/150\n",
      "625/625 [==============================] - 18s 29ms/step - loss: 1.1401 - acc: 0.5983\n",
      "Epoch 30/150\n",
      "625/625 [==============================] - 18s 29ms/step - loss: 1.1377 - acc: 0.6003\n",
      "Epoch 31/150\n",
      "625/625 [==============================] - 20s 32ms/step - loss: 1.1292 - acc: 0.6035\n",
      "Epoch 32/150\n",
      "625/625 [==============================] - 20s 32ms/step - loss: 1.1189 - acc: 0.6044\n",
      "Epoch 33/150\n",
      "625/625 [==============================] - 19s 31ms/step - loss: 1.1143 - acc: 0.6097\n",
      "Epoch 34/150\n",
      "625/625 [==============================] - 18s 29ms/step - loss: 1.1062 - acc: 0.6117\n",
      "Epoch 35/150\n",
      "625/625 [==============================] - 20s 32ms/step - loss: 1.0892 - acc: 0.6165\n",
      "Epoch 36/150\n",
      "625/625 [==============================] - 18s 29ms/step - loss: 1.0885 - acc: 0.6185\n",
      "Epoch 37/150\n",
      "625/625 [==============================] - 18s 29ms/step - loss: 1.0782 - acc: 0.6204\n",
      "Epoch 38/150\n",
      "625/625 [==============================] - 18s 29ms/step - loss: 1.0785 - acc: 0.6244\n",
      "Epoch 39/150\n",
      "625/625 [==============================] - 20s 31ms/step - loss: 1.0723 - acc: 0.6248\n",
      "Epoch 40/150\n",
      "625/625 [==============================] - 19s 30ms/step - loss: 1.0596 - acc: 0.6287\n",
      "Epoch 41/150\n",
      "625/625 [==============================] - 18s 29ms/step - loss: 1.0560 - acc: 0.6304\n",
      "Epoch 42/150\n",
      "625/625 [==============================] - 18s 29ms/step - loss: 1.0560 - acc: 0.6307\n",
      "Epoch 43/150\n",
      "625/625 [==============================] - 18s 29ms/step - loss: 1.0312 - acc: 0.6390\n",
      "Epoch 44/150\n",
      "625/625 [==============================] - 20s 32ms/step - loss: 1.0314 - acc: 0.6394\n",
      "Epoch 45/150\n",
      "625/625 [==============================] - 18s 29ms/step - loss: 1.0334 - acc: 0.6372\n",
      "Epoch 46/150\n",
      "625/625 [==============================] - 18s 29ms/step - loss: 1.0187 - acc: 0.6448\n",
      "Epoch 47/150\n",
      "625/625 [==============================] - 18s 29ms/step - loss: 1.0150 - acc: 0.6469\n",
      "Epoch 48/150\n",
      "625/625 [==============================] - 21s 33ms/step - loss: 1.0159 - acc: 0.6452\n",
      "Epoch 49/150\n",
      "625/625 [==============================] - 19s 30ms/step - loss: 1.0120 - acc: 0.6487\n",
      "Epoch 50/150\n",
      "625/625 [==============================] - 19s 30ms/step - loss: 1.0030 - acc: 0.6510\n",
      "Epoch 51/150\n",
      "625/625 [==============================] - 18s 29ms/step - loss: 0.9917 - acc: 0.6526\n",
      "Epoch 52/150\n",
      "625/625 [==============================] - 20s 32ms/step - loss: 0.9956 - acc: 0.6571\n",
      "Epoch 53/150\n",
      "625/625 [==============================] - 18s 29ms/step - loss: 0.9776 - acc: 0.6627\n",
      "Epoch 54/150\n",
      "625/625 [==============================] - 18s 29ms/step - loss: 0.9905 - acc: 0.6538\n",
      "Epoch 55/150\n",
      "625/625 [==============================] - 18s 29ms/step - loss: 0.9840 - acc: 0.6589\n",
      "Epoch 56/150\n",
      "625/625 [==============================] - 19s 30ms/step - loss: 0.9760 - acc: 0.6614\n",
      "Epoch 57/150\n",
      "625/625 [==============================] - 19s 30ms/step - loss: 0.9768 - acc: 0.6616\n",
      "Epoch 58/150\n",
      "625/625 [==============================] - 18s 29ms/step - loss: 0.9645 - acc: 0.6663\n",
      "Epoch 59/150\n",
      "625/625 [==============================] - 18s 29ms/step - loss: 0.9661 - acc: 0.6627\n",
      "Epoch 60/150\n",
      "625/625 [==============================] - 18s 29ms/step - loss: 0.9510 - acc: 0.6706\n",
      "Epoch 61/150\n",
      "625/625 [==============================] - 19s 31ms/step - loss: 0.9545 - acc: 0.6695\n",
      "Epoch 62/150\n",
      "625/625 [==============================] - 18s 29ms/step - loss: 0.9455 - acc: 0.6720\n",
      "Epoch 63/150\n",
      "625/625 [==============================] - 18s 29ms/step - loss: 0.9462 - acc: 0.6730\n",
      "Epoch 64/150\n",
      "625/625 [==============================] - 18s 29ms/step - loss: 0.9461 - acc: 0.6747\n",
      "Epoch 65/150\n",
      "625/625 [==============================] - 21s 33ms/step - loss: 0.9424 - acc: 0.6748\n",
      "Epoch 66/150\n",
      "625/625 [==============================] - 19s 30ms/step - loss: 0.9302 - acc: 0.6799\n",
      "Epoch 67/150\n",
      "625/625 [==============================] - 18s 29ms/step - loss: 0.9273 - acc: 0.6781\n",
      "Epoch 68/150\n",
      "625/625 [==============================] - 18s 29ms/step - loss: 0.9278 - acc: 0.6773\n",
      "Epoch 69/150\n",
      "625/625 [==============================] - 19s 30ms/step - loss: 0.9269 - acc: 0.6796\n",
      "Epoch 70/150\n",
      "625/625 [==============================] - 19s 31ms/step - loss: 0.9191 - acc: 0.6819\n",
      "Epoch 71/150\n",
      "625/625 [==============================] - 18s 29ms/step - loss: 0.9093 - acc: 0.6820\n",
      "Epoch 72/150\n",
      "625/625 [==============================] - 18s 29ms/step - loss: 0.9185 - acc: 0.6824\n",
      "Epoch 73/150\n",
      "625/625 [==============================] - 18s 29ms/step - loss: 0.9184 - acc: 0.6842\n",
      "Epoch 74/150\n",
      "625/625 [==============================] - 20s 32ms/step - loss: 0.9126 - acc: 0.6847\n",
      "Epoch 75/150\n",
      "625/625 [==============================] - 18s 29ms/step - loss: 0.9064 - acc: 0.6880\n",
      "Epoch 76/150\n",
      "625/625 [==============================] - 18s 29ms/step - loss: 0.9053 - acc: 0.6873\n",
      "Epoch 77/150\n",
      "625/625 [==============================] - 18s 29ms/step - loss: 0.9099 - acc: 0.6851\n",
      "Epoch 78/150\n",
      "625/625 [==============================] - 20s 32ms/step - loss: 0.8933 - acc: 0.6942\n",
      "Epoch 79/150\n",
      "625/625 [==============================] - 18s 30ms/step - loss: 0.8997 - acc: 0.6904\n",
      "Epoch 80/150\n",
      "625/625 [==============================] - 18s 30ms/step - loss: 0.8889 - acc: 0.6936\n",
      "Epoch 81/150\n",
      "625/625 [==============================] - 19s 31ms/step - loss: 0.8996 - acc: 0.6911\n",
      "Epoch 82/150\n",
      "625/625 [==============================] - 21s 33ms/step - loss: 0.8841 - acc: 0.6970\n",
      "Epoch 83/150\n",
      "625/625 [==============================] - 19s 30ms/step - loss: 0.8937 - acc: 0.6918\n",
      "Epoch 84/150\n",
      "625/625 [==============================] - 18s 30ms/step - loss: 0.8742 - acc: 0.6999\n",
      "Epoch 85/150\n",
      "625/625 [==============================] - 19s 30ms/step - loss: 0.8694 - acc: 0.7009\n",
      "Epoch 86/150\n",
      "625/625 [==============================] - 19s 30ms/step - loss: 0.8653 - acc: 0.7020\n",
      "Epoch 87/150\n",
      "625/625 [==============================] - 20s 31ms/step - loss: 0.8701 - acc: 0.6986\n",
      "Epoch 88/150\n",
      "625/625 [==============================] - 18s 30ms/step - loss: 0.8728 - acc: 0.6987\n",
      "Epoch 89/150\n",
      "625/625 [==============================] - 18s 29ms/step - loss: 0.8704 - acc: 0.7035\n",
      "Epoch 90/150\n",
      "625/625 [==============================] - 18s 30ms/step - loss: 0.8657 - acc: 0.7020\n",
      "Epoch 91/150\n",
      "625/625 [==============================] - 20s 32ms/step - loss: 0.8680 - acc: 0.7001\n",
      "Epoch 92/150\n",
      "625/625 [==============================] - 18s 30ms/step - loss: 0.8593 - acc: 0.7041\n",
      "Epoch 93/150\n",
      "625/625 [==============================] - 18s 30ms/step - loss: 0.8546 - acc: 0.7060\n",
      "Epoch 94/150\n",
      "625/625 [==============================] - 18s 29ms/step - loss: 0.8518 - acc: 0.7055\n",
      "Epoch 95/150\n",
      "625/625 [==============================] - 20s 32ms/step - loss: 0.8561 - acc: 0.7069\n",
      "Epoch 96/150\n",
      "625/625 [==============================] - 18s 29ms/step - loss: 0.8593 - acc: 0.7049\n",
      "Epoch 97/150\n",
      "625/625 [==============================] - 18s 29ms/step - loss: 0.8570 - acc: 0.7054\n",
      "Epoch 98/150\n",
      "625/625 [==============================] - 21s 33ms/step - loss: 0.8442 - acc: 0.7119\n",
      "Epoch 99/150\n",
      "625/625 [==============================] - 20s 31ms/step - loss: 0.8445 - acc: 0.7109\n",
      "Epoch 100/150\n",
      "625/625 [==============================] - 19s 30ms/step - loss: 0.8456 - acc: 0.7110\n",
      "Epoch 101/150\n",
      "625/625 [==============================] - 18s 29ms/step - loss: 0.8439 - acc: 0.7111\n",
      "Epoch 102/150\n",
      "625/625 [==============================] - 18s 29ms/step - loss: 0.8433 - acc: 0.7114\n",
      "Epoch 103/150\n",
      "625/625 [==============================] - 19s 30ms/step - loss: 0.8355 - acc: 0.7138\n",
      "Epoch 104/150\n",
      "625/625 [==============================] - 19s 31ms/step - loss: 0.8391 - acc: 0.7144\n",
      "Epoch 105/150\n",
      "625/625 [==============================] - 18s 29ms/step - loss: 0.8398 - acc: 0.7127\n",
      "Epoch 106/150\n",
      "625/625 [==============================] - 18s 29ms/step - loss: 0.8408 - acc: 0.7109\n",
      "Epoch 107/150\n",
      "625/625 [==============================] - 18s 29ms/step - loss: 0.8271 - acc: 0.7189\n",
      "Epoch 108/150\n",
      "625/625 [==============================] - 20s 32ms/step - loss: 0.8260 - acc: 0.7170\n",
      "Epoch 109/150\n",
      "625/625 [==============================] - 18s 29ms/step - loss: 0.8301 - acc: 0.7150\n",
      "Epoch 110/150\n",
      "625/625 [==============================] - 18s 29ms/step - loss: 0.8321 - acc: 0.7149\n",
      "Epoch 111/150\n",
      "625/625 [==============================] - 18s 29ms/step - loss: 0.8258 - acc: 0.7175\n",
      "Epoch 112/150\n",
      "625/625 [==============================] - 19s 31ms/step - loss: 0.8227 - acc: 0.7172\n",
      "Epoch 113/150\n",
      "625/625 [==============================] - 18s 29ms/step - loss: 0.8184 - acc: 0.7187\n",
      "Epoch 114/150\n",
      "625/625 [==============================] - 19s 31ms/step - loss: 0.8170 - acc: 0.7212\n",
      "Epoch 115/150\n",
      "625/625 [==============================] - 19s 30ms/step - loss: 0.8194 - acc: 0.7200\n",
      "Epoch 116/150\n",
      "625/625 [==============================] - 19s 30ms/step - loss: 0.8209 - acc: 0.7190\n",
      "Epoch 117/150\n",
      "625/625 [==============================] - 19s 30ms/step - loss: 0.8066 - acc: 0.7250\n",
      "Epoch 118/150\n",
      "625/625 [==============================] - 18s 29ms/step - loss: 0.8132 - acc: 0.7213\n",
      "Epoch 119/150\n",
      "625/625 [==============================] - 18s 29ms/step - loss: 0.8065 - acc: 0.7259\n",
      "Epoch 120/150\n",
      "625/625 [==============================] - 18s 29ms/step - loss: 0.8055 - acc: 0.7256\n",
      "Epoch 121/150\n",
      "625/625 [==============================] - 20s 31ms/step - loss: 0.8129 - acc: 0.7226\n",
      "Epoch 122/150\n",
      "625/625 [==============================] - 18s 29ms/step - loss: 0.8101 - acc: 0.7211\n",
      "Epoch 123/150\n",
      "625/625 [==============================] - 18s 29ms/step - loss: 0.8049 - acc: 0.7268\n",
      "Epoch 124/150\n",
      "625/625 [==============================] - 18s 29ms/step - loss: 0.8050 - acc: 0.7280\n",
      "Epoch 125/150\n",
      "625/625 [==============================] - 20s 32ms/step - loss: 0.8023 - acc: 0.7265\n",
      "Epoch 126/150\n",
      "625/625 [==============================] - 18s 30ms/step - loss: 0.8131 - acc: 0.7242\n",
      "Epoch 127/150\n",
      "625/625 [==============================] - 18s 29ms/step - loss: 0.8109 - acc: 0.7238\n",
      "Epoch 128/150\n",
      "625/625 [==============================] - 18s 30ms/step - loss: 0.8015 - acc: 0.7264\n",
      "Epoch 129/150\n",
      "625/625 [==============================] - 19s 30ms/step - loss: 0.7986 - acc: 0.7270\n",
      "Epoch 130/150\n",
      "625/625 [==============================] - 19s 31ms/step - loss: 0.7919 - acc: 0.7312\n",
      "Epoch 131/150\n",
      "625/625 [==============================] - 20s 32ms/step - loss: 0.7979 - acc: 0.7282\n",
      "Epoch 132/150\n",
      "625/625 [==============================] - 18s 29ms/step - loss: 0.7978 - acc: 0.7263\n",
      "Epoch 133/150\n",
      "625/625 [==============================] - 18s 29ms/step - loss: 0.7930 - acc: 0.7294\n",
      "Epoch 134/150\n",
      "625/625 [==============================] - 20s 32ms/step - loss: 0.7971 - acc: 0.7310\n",
      "Epoch 135/150\n",
      "625/625 [==============================] - 18s 29ms/step - loss: 0.7926 - acc: 0.7306\n",
      "Epoch 136/150\n",
      "625/625 [==============================] - 18s 29ms/step - loss: 0.7825 - acc: 0.7327\n",
      "Epoch 137/150\n",
      "625/625 [==============================] - 18s 29ms/step - loss: 0.7879 - acc: 0.7306\n",
      "Epoch 138/150\n",
      "625/625 [==============================] - 20s 32ms/step - loss: 0.7891 - acc: 0.7306\n",
      "Epoch 139/150\n",
      "625/625 [==============================] - 18s 29ms/step - loss: 0.7896 - acc: 0.7292\n",
      "Epoch 140/150\n",
      "625/625 [==============================] - 18s 29ms/step - loss: 0.7943 - acc: 0.7297\n",
      "Epoch 141/150\n",
      "625/625 [==============================] - 18s 30ms/step - loss: 0.7856 - acc: 0.7344\n",
      "Epoch 142/150\n",
      "625/625 [==============================] - 20s 31ms/step - loss: 0.7799 - acc: 0.7352\n",
      "Epoch 143/150\n",
      "625/625 [==============================] - 19s 30ms/step - loss: 0.7855 - acc: 0.7318\n",
      "Epoch 144/150\n",
      "625/625 [==============================] - 18s 30ms/step - loss: 0.7836 - acc: 0.7343\n",
      "Epoch 145/150\n",
      "625/625 [==============================] - 18s 30ms/step - loss: 0.7884 - acc: 0.7299\n",
      "Epoch 146/150\n",
      "625/625 [==============================] - 19s 30ms/step - loss: 0.7805 - acc: 0.7348\n",
      "Epoch 147/150\n",
      "625/625 [==============================] - 21s 34ms/step - loss: 0.7887 - acc: 0.7330\n",
      "Epoch 148/150\n",
      "625/625 [==============================] - 19s 31ms/step - loss: 0.7854 - acc: 0.7333\n",
      "Epoch 149/150\n",
      "625/625 [==============================] - 18s 29ms/step - loss: 0.7793 - acc: 0.7386\n",
      "Epoch 150/150\n",
      "625/625 [==============================] - 18s 29ms/step - loss: 0.7696 - acc: 0.7384\n"
     ]
    }
   ],
   "source": [
    "history = fin_model.fit_generator(datagen.flow(x_train, y_train_vec, batch_size=batch_size),\n",
    "                              steps_per_epoch=steps_per_epoch,\n",
    "                              epochs=150)"
   ]
  },
  {
   "cell_type": "markdown",
   "metadata": {
    "colab_type": "text",
    "id": "-jwUrBrVqmQ5"
   },
   "source": [
    "### 3.2. Evaluate the model on the test set\n",
    "\n",
    "Do NOT used the test set until now. Make sure that your model parameters and hyper-parameters are independent of the test set."
   ]
  },
  {
   "cell_type": "code",
   "execution_count": 15,
   "metadata": {
    "colab": {
     "base_uri": "https://localhost:8080/",
     "height": 68
    },
    "colab_type": "code",
    "id": "iXBYNbFXqmQ_",
    "outputId": "f1055056-4c2b-4040-ed64-9577ccdec12f"
   },
   "outputs": [
    {
     "name": "stdout",
     "output_type": "stream",
     "text": [
      "10000/10000 [==============================] - 1s 99us/step\n",
      "loss = 0.7574639088630676\n",
      "accuracy = 0.7402\n"
     ]
    }
   ],
   "source": [
    "loss_and_acc = fin_model.evaluate(x_test, y_test_vec)\n",
    "print('loss = ' + str(loss_and_acc[0]))\n",
    "print('accuracy = ' + str(loss_and_acc[1]))"
   ]
  },
  {
   "cell_type": "code",
   "execution_count": 0,
   "metadata": {
    "colab": {},
    "colab_type": "code",
    "id": "_gGO8zEsqmRD"
   },
   "outputs": [],
   "source": []
  }
 ],
 "metadata": {
  "accelerator": "GPU",
  "colab": {
   "name": "hw3cnn.ipynb",
   "provenance": [],
   "version": "0.3.2"
  },
  "kernelspec": {
   "display_name": "Python 3",
   "language": "python",
   "name": "python3"
  },
  "language_info": {
   "codemirror_mode": {
    "name": "ipython",
    "version": 3
   },
   "file_extension": ".py",
   "mimetype": "text/x-python",
   "name": "python",
   "nbconvert_exporter": "python",
   "pygments_lexer": "ipython3",
   "version": "3.7.1"
  }
 },
 "nbformat": 4,
 "nbformat_minor": 1
}
