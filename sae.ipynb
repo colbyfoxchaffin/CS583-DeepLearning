{
 "cells": [
  {
   "cell_type": "markdown",
   "metadata": {
    "colab_type": "text",
    "id": "hyzhP6q9FT7Y"
   },
   "source": [
    "# HM5: Build a Supervised Autoencoder.\n",
    "\n",
    "### Name: Colby Chaffin CWID: 10401591\n"
   ]
  },
  {
   "cell_type": "markdown",
   "metadata": {
    "colab_type": "text",
    "id": "69QHsq7uFT7Z"
   },
   "source": [
    "\n",
    "PCA and the standard autoencoder are unsupervised dimensionality reduction methods, and their learned features are not discriminative. If you build a classifier upon the low-dimenional features extracted by PCA and autoencoder, you will find the classification accuracy very poor.\n",
    "\n",
    "Linear discriminant analysis (LDA) is a traditionally supervised dimensionality reduction method for learning low-dimensional features which are highly discriminative. Likewise, can we extend autoencoder to supervised leanring?\n",
    "\n"
   ]
  },
  {
   "cell_type": "markdown",
   "metadata": {
    "colab_type": "text",
    "id": "aVyj-iX5FT7a"
   },
   "source": [
    "**You are required to build and train a supervised autoencoder look like the following.** You are required to add other layers properly to alleviate overfitting.\n",
    "\n",
    "\n",
    "![Network Structure](https://github.com/wangshusen/CS583A-2019Spring/blob/master/homework/HM5/supervised_ae.png?raw=true \"NetworkStructure\")\n"
   ]
  },
  {
   "cell_type": "markdown",
   "metadata": {
    "colab_type": "text",
    "id": "TQqLQwd8FT7a"
   },
   "source": [
    "## 0. You will do the following:\n",
    "\n",
    "1. Read and run my code to train a standard dense autoencoder.\n",
    "\n",
    "2. Build and train a supervised autoencoder, visual the low-dim features and the reconstructions, and evaluate whether the learned low-dim features are discriminative.\n",
    "    \n",
    "3. Convert the .IPYNB file to .HTML file.\n",
    "\n",
    "    * The HTML file must contain the code and the output after execution.\n",
    "    \n",
    "    \n",
    "    \n",
    "4. Upload this .HTML file to your Github repo.\n",
    "\n",
    "4. Submit the link to this .HTML file to Canvas.\n",
    "\n",
    "    * Example: https://github.com/wangshusen/CS583A-2019Spring/blob/master/homework/HM5/sae.html\n"
   ]
  },
  {
   "cell_type": "markdown",
   "metadata": {
    "colab_type": "text",
    "id": "tjHaHv02FT7b"
   },
   "source": [
    "## 1. Data preparation"
   ]
  },
  {
   "cell_type": "markdown",
   "metadata": {
    "colab_type": "text",
    "id": "932_JafsFT7b"
   },
   "source": [
    "### 1.1. Load data\n"
   ]
  },
  {
   "cell_type": "code",
   "execution_count": 38,
   "metadata": {
    "colab": {
     "base_uri": "https://localhost:8080/",
     "height": 85
    },
    "colab_type": "code",
    "id": "4rTmc02rFT7c",
    "outputId": "99df15d1-389a-45e4-ea14-befe8afed444"
   },
   "outputs": [
    {
     "name": "stdout",
     "output_type": "stream",
     "text": [
      "Shape of x_train: (60000, 784)\n",
      "Shape of x_test: (10000, 784)\n",
      "Shape of y_train: (60000,)\n",
      "Shape of y_test: (10000,)\n"
     ]
    }
   ],
   "source": [
    "from keras.datasets import mnist\n",
    "\n",
    "(x_train, y_train), (x_test, y_test) = mnist.load_data()\n",
    "x_train = x_train.reshape(60000, 28*28).astype('float32') / 255.\n",
    "x_test = x_test.reshape(10000, 28*28).astype('float32') / 255.\n",
    "\n",
    "print('Shape of x_train: ' + str(x_train.shape)) \n",
    "print('Shape of x_test: ' + str(x_test.shape))\n",
    "print('Shape of y_train: ' + str(y_train.shape))\n",
    "print('Shape of y_test: ' + str(y_test.shape))"
   ]
  },
  {
   "cell_type": "markdown",
   "metadata": {
    "colab_type": "text",
    "id": "rb9z6y46FT7i"
   },
   "source": [
    "### 1.2. One-hot encode the labels\n",
    "\n",
    "In the input, a label is a scalar in $\\{0, 1, \\cdots , 9\\}$. One-hot encode transform such a scalar to a $10$-dim vector. E.g., a scalar ```y_train[j]=3``` is transformed to the vector ```y_train_vec[j]=[0, 0, 0, 1, 0, 0, 0, 0, 0, 0]```.\n",
    "\n",
    "1. Define a function ```to_one_hot``` that transforms an $n\\times 1$ array to a $n\\times 10$ matrix.\n",
    "\n",
    "2. Apply the function to ```y_train``` and ```y_test```."
   ]
  },
  {
   "cell_type": "code",
   "execution_count": 39,
   "metadata": {
    "colab": {
     "base_uri": "https://localhost:8080/",
     "height": 85
    },
    "colab_type": "code",
    "id": "zZObIUXnFT7i",
    "outputId": "87085693-ed77-4dda-d612-e1c859d38349"
   },
   "outputs": [
    {
     "name": "stdout",
     "output_type": "stream",
     "text": [
      "Shape of y_train_vec: (60000, 10)\n",
      "Shape of y_test_vec: (10000, 10)\n",
      "5\n",
      "[0. 0. 0. 0. 0. 1. 0. 0. 0. 0.]\n"
     ]
    }
   ],
   "source": [
    "import numpy\n",
    "\n",
    "def to_one_hot(y, num_class=10):\n",
    "    results = numpy.zeros((len(y), num_class))\n",
    "    for i, label in enumerate(y):\n",
    "        results[i, label] = 1.\n",
    "    return results\n",
    "\n",
    "y_train_vec = to_one_hot(y_train)\n",
    "y_test_vec = to_one_hot(y_test)\n",
    "\n",
    "print('Shape of y_train_vec: ' + str(y_train_vec.shape))\n",
    "print('Shape of y_test_vec: ' + str(y_test_vec.shape))\n",
    "\n",
    "print(y_train[0])\n",
    "print(y_train_vec[0])"
   ]
  },
  {
   "cell_type": "markdown",
   "metadata": {
    "colab_type": "text",
    "id": "7IPTVyO6FT7l"
   },
   "source": [
    "### 1.3. Randomly partition the training set to training and validation sets\n",
    "\n",
    "Randomly partition the 60K training samples to 2 sets:\n",
    "* a training set containing 10K samples\n",
    "* a validation set containing 50K samples\n"
   ]
  },
  {
   "cell_type": "code",
   "execution_count": 40,
   "metadata": {
    "colab": {
     "base_uri": "https://localhost:8080/",
     "height": 85
    },
    "colab_type": "code",
    "id": "IMwSX8fNFT7m",
    "outputId": "565a8b9f-050a-4303-8c56-b5063e60dd0f"
   },
   "outputs": [
    {
     "name": "stdout",
     "output_type": "stream",
     "text": [
      "Shape of x_tr: (10000, 784)\n",
      "Shape of y_tr: (10000, 10)\n",
      "Shape of x_val: (50000, 784)\n",
      "Shape of y_val: (50000, 10)\n"
     ]
    }
   ],
   "source": [
    "rand_indices = numpy.random.permutation(60000)\n",
    "train_indices = rand_indices[0:10000]\n",
    "valid_indices = rand_indices[10000:60000]\n",
    "\n",
    "x_val = x_train[valid_indices, :]\n",
    "y_val = y_train_vec[valid_indices, :]\n",
    "\n",
    "x_tr = x_train[train_indices, :]\n",
    "y_tr = y_train_vec[train_indices, :]\n",
    "\n",
    "print('Shape of x_tr: ' + str(x_tr.shape))\n",
    "print('Shape of y_tr: ' + str(y_tr.shape))\n",
    "print('Shape of x_val: ' + str(x_val.shape))\n",
    "print('Shape of y_val: ' + str(y_val.shape))"
   ]
  },
  {
   "cell_type": "markdown",
   "metadata": {
    "colab_type": "text",
    "id": "utr8i6yaFT7p"
   },
   "source": [
    "## 2. Build an unsupervised  autoencoder and tune its hyper-parameters\n",
    "\n",
    "1. Build a dense autoencoder model\n",
    "2. Use the validation data to tune the hyper-parameters (e.g., network structure, and optimization algorithm)\n",
    "    * Do NOT use test data for hyper-parameter tuning!!!\n",
    "    \n",
    "3. Try to achieve a validation loss as low as possible.\n",
    "4. Evaluate the model on the test set.\n",
    "5. Visualize the low-dim features and reconstructions."
   ]
  },
  {
   "cell_type": "markdown",
   "metadata": {
    "colab_type": "text",
    "id": "jL9f-4RpFT7q"
   },
   "source": [
    "### 2.1. Build the model"
   ]
  },
  {
   "cell_type": "code",
   "execution_count": 41,
   "metadata": {
    "colab": {
     "base_uri": "https://localhost:8080/",
     "height": 442
    },
    "colab_type": "code",
    "id": "jiNRX6oHFT7q",
    "outputId": "d5a35ae5-4717-4322-aa90-92191cb72c60"
   },
   "outputs": [
    {
     "name": "stdout",
     "output_type": "stream",
     "text": [
      "_________________________________________________________________\n",
      "Layer (type)                 Output Shape              Param #   \n",
      "=================================================================\n",
      "input_img (InputLayer)       (None, 784)               0         \n",
      "_________________________________________________________________\n",
      "encode1 (Dense)              (None, 128)               100480    \n",
      "_________________________________________________________________\n",
      "encode2 (Dense)              (None, 32)                4128      \n",
      "_________________________________________________________________\n",
      "encode3 (Dense)              (None, 8)                 264       \n",
      "_________________________________________________________________\n",
      "bottleneck (Dense)           (None, 2)                 18        \n",
      "_________________________________________________________________\n",
      "decode1 (Dense)              (None, 8)                 24        \n",
      "_________________________________________________________________\n",
      "decode2 (Dense)              (None, 32)                288       \n",
      "_________________________________________________________________\n",
      "decode3 (Dense)              (None, 128)               4224      \n",
      "_________________________________________________________________\n",
      "decode4 (Dense)              (None, 784)               101136    \n",
      "=================================================================\n",
      "Total params: 210,562\n",
      "Trainable params: 210,562\n",
      "Non-trainable params: 0\n",
      "_________________________________________________________________\n"
     ]
    }
   ],
   "source": [
    "from keras.layers import Dense, Input\n",
    "from keras import models\n",
    "\n",
    "input_img = Input(shape=(784,), name='input_img')\n",
    "\n",
    "encode1 = Dense(128, activation='relu', name='encode1')(input_img)\n",
    "encode2 = Dense(32, activation='relu', name='encode2')(encode1)\n",
    "encode3 = Dense(8, activation='relu', name='encode3')(encode2)\n",
    "bottleneck = Dense(2, activation='relu', name='bottleneck')(encode3)\n",
    "decode1 = Dense(8, activation='relu', name='decode1')(bottleneck)\n",
    "decode2 = Dense(32, activation='relu', name='decode2')(decode1)\n",
    "decode3 = Dense(128, activation='relu', name='decode3')(decode2)\n",
    "decode4 = Dense(784, activation='relu', name='decode4')(decode3)\n",
    "\n",
    "ae = models.Model(input_img, decode4)\n",
    "\n",
    "ae.summary()"
   ]
  },
  {
   "cell_type": "code",
   "execution_count": 0,
   "metadata": {
    "colab": {},
    "colab_type": "code",
    "id": "Ug9uVTMlFT7u"
   },
   "outputs": [],
   "source": [
    "# print the network structure to a PDF file\n",
    "\n",
    "from IPython.display import SVG\n",
    "from keras.utils.vis_utils import model_to_dot, plot_model\n",
    "\n",
    "SVG(model_to_dot(ae, show_shapes=False).create(prog='dot', format='svg'))\n",
    "\n",
    "plot_model(\n",
    "    model=ae, show_shapes=False,\n",
    "    to_file='unsupervised_ae.pdf'\n",
    ")\n",
    "\n",
    "# you can find the file \"unsupervised_ae.pdf\" in the current directory."
   ]
  },
  {
   "cell_type": "markdown",
   "metadata": {
    "colab_type": "text",
    "id": "lLTiG7HLFT7w"
   },
   "source": [
    "### 2.2. Train the model and tune the hyper-parameters"
   ]
  },
  {
   "cell_type": "code",
   "execution_count": 0,
   "metadata": {
    "colab": {},
    "colab_type": "code",
    "id": "Jbb2PeKuFT7x"
   },
   "outputs": [],
   "source": [
    "from keras import optimizers\n",
    "\n",
    "learning_rate = 1E-3 # to be tuned!\n",
    "\n",
    "ae.compile(loss='mean_squared_error',\n",
    "           optimizer=optimizers.RMSprop(lr=learning_rate))"
   ]
  },
  {
   "cell_type": "code",
   "execution_count": 44,
   "metadata": {
    "colab": {
     "base_uri": "https://localhost:8080/",
     "height": 3434
    },
    "colab_type": "code",
    "id": "ZAh8rlMHFT7z",
    "outputId": "21df84c8-ef9c-4f22-a899-c39d78bde2f2"
   },
   "outputs": [
    {
     "name": "stdout",
     "output_type": "stream",
     "text": [
      "Train on 10000 samples, validate on 50000 samples\n",
      "Epoch 1/100\n",
      "10000/10000 [==============================] - 2s 209us/step - loss: 0.0858 - val_loss: 0.0856\n",
      "Epoch 2/100\n",
      "10000/10000 [==============================] - 1s 92us/step - loss: 0.0843 - val_loss: 0.0841\n",
      "Epoch 3/100\n",
      "10000/10000 [==============================] - 1s 92us/step - loss: 0.0829 - val_loss: 0.0825\n",
      "Epoch 4/100\n",
      "10000/10000 [==============================] - 1s 95us/step - loss: 0.0811 - val_loss: 0.0799\n",
      "Epoch 5/100\n",
      "10000/10000 [==============================] - 1s 92us/step - loss: 0.0790 - val_loss: 0.0778\n",
      "Epoch 6/100\n",
      "10000/10000 [==============================] - 1s 90us/step - loss: 0.0763 - val_loss: 0.0748\n",
      "Epoch 7/100\n",
      "10000/10000 [==============================] - 1s 92us/step - loss: 0.0744 - val_loss: 0.0742\n",
      "Epoch 8/100\n",
      "10000/10000 [==============================] - 1s 92us/step - loss: 0.0734 - val_loss: 0.0714\n",
      "Epoch 9/100\n",
      "10000/10000 [==============================] - 1s 98us/step - loss: 0.0698 - val_loss: 0.0687\n",
      "Epoch 10/100\n",
      "10000/10000 [==============================] - 1s 104us/step - loss: 0.0664 - val_loss: 0.0661\n",
      "Epoch 11/100\n",
      "10000/10000 [==============================] - 1s 104us/step - loss: 0.0644 - val_loss: 0.0631\n",
      "Epoch 12/100\n",
      "10000/10000 [==============================] - 1s 105us/step - loss: 0.0623 - val_loss: 0.0615\n",
      "Epoch 13/100\n",
      "10000/10000 [==============================] - 1s 104us/step - loss: 0.0603 - val_loss: 0.0593\n",
      "Epoch 14/100\n",
      "10000/10000 [==============================] - 1s 112us/step - loss: 0.0588 - val_loss: 0.0585\n",
      "Epoch 15/100\n",
      "10000/10000 [==============================] - 1s 113us/step - loss: 0.0575 - val_loss: 0.0581\n",
      "Epoch 16/100\n",
      "10000/10000 [==============================] - 1s 111us/step - loss: 0.0564 - val_loss: 0.0566\n",
      "Epoch 17/100\n",
      "10000/10000 [==============================] - 1s 110us/step - loss: 0.0556 - val_loss: 0.0560\n",
      "Epoch 18/100\n",
      "10000/10000 [==============================] - 1s 110us/step - loss: 0.0548 - val_loss: 0.0562\n",
      "Epoch 19/100\n",
      "10000/10000 [==============================] - 1s 113us/step - loss: 0.0543 - val_loss: 0.0542\n",
      "Epoch 20/100\n",
      "10000/10000 [==============================] - 1s 110us/step - loss: 0.0538 - val_loss: 0.0543\n",
      "Epoch 21/100\n",
      "10000/10000 [==============================] - 1s 111us/step - loss: 0.0532 - val_loss: 0.0534\n",
      "Epoch 22/100\n",
      "10000/10000 [==============================] - 1s 110us/step - loss: 0.0526 - val_loss: 0.0529\n",
      "Epoch 23/100\n",
      "10000/10000 [==============================] - 1s 103us/step - loss: 0.0523 - val_loss: 0.0528\n",
      "Epoch 24/100\n",
      "10000/10000 [==============================] - 1s 93us/step - loss: 0.0521 - val_loss: 0.0531\n",
      "Epoch 25/100\n",
      "10000/10000 [==============================] - 1s 90us/step - loss: 0.0512 - val_loss: 0.0531\n",
      "Epoch 26/100\n",
      "10000/10000 [==============================] - 1s 91us/step - loss: 0.0508 - val_loss: 0.0523\n",
      "Epoch 27/100\n",
      "10000/10000 [==============================] - 1s 94us/step - loss: 0.0505 - val_loss: 0.0510\n",
      "Epoch 28/100\n",
      "10000/10000 [==============================] - 1s 93us/step - loss: 0.0501 - val_loss: 0.0509\n",
      "Epoch 29/100\n",
      "10000/10000 [==============================] - 1s 95us/step - loss: 0.0497 - val_loss: 0.0506\n",
      "Epoch 30/100\n",
      "10000/10000 [==============================] - 1s 91us/step - loss: 0.0495 - val_loss: 0.0509\n",
      "Epoch 31/100\n",
      "10000/10000 [==============================] - 1s 92us/step - loss: 0.0493 - val_loss: 0.0503\n",
      "Epoch 32/100\n",
      "10000/10000 [==============================] - 1s 90us/step - loss: 0.0492 - val_loss: 0.0508\n",
      "Epoch 33/100\n",
      "10000/10000 [==============================] - 1s 91us/step - loss: 0.0490 - val_loss: 0.0504\n",
      "Epoch 34/100\n",
      "10000/10000 [==============================] - 1s 91us/step - loss: 0.0487 - val_loss: 0.0496\n",
      "Epoch 35/100\n",
      "10000/10000 [==============================] - 1s 95us/step - loss: 0.0485 - val_loss: 0.0505\n",
      "Epoch 36/100\n",
      "10000/10000 [==============================] - 1s 92us/step - loss: 0.0483 - val_loss: 0.0499\n",
      "Epoch 37/100\n",
      "10000/10000 [==============================] - 1s 91us/step - loss: 0.0481 - val_loss: 0.0498\n",
      "Epoch 38/100\n",
      "10000/10000 [==============================] - 1s 92us/step - loss: 0.0479 - val_loss: 0.0492\n",
      "Epoch 39/100\n",
      "10000/10000 [==============================] - 1s 92us/step - loss: 0.0478 - val_loss: 0.0490\n",
      "Epoch 40/100\n",
      "10000/10000 [==============================] - 1s 93us/step - loss: 0.0476 - val_loss: 0.0500\n",
      "Epoch 41/100\n",
      "10000/10000 [==============================] - 1s 92us/step - loss: 0.0475 - val_loss: 0.0494\n",
      "Epoch 42/100\n",
      "10000/10000 [==============================] - 1s 92us/step - loss: 0.0474 - val_loss: 0.0490\n",
      "Epoch 43/100\n",
      "10000/10000 [==============================] - 1s 90us/step - loss: 0.0472 - val_loss: 0.0493\n",
      "Epoch 44/100\n",
      "10000/10000 [==============================] - 1s 92us/step - loss: 0.0471 - val_loss: 0.0483\n",
      "Epoch 45/100\n",
      "10000/10000 [==============================] - 1s 91us/step - loss: 0.0466 - val_loss: 0.0489\n",
      "Epoch 46/100\n",
      "10000/10000 [==============================] - 1s 93us/step - loss: 0.0465 - val_loss: 0.0486\n",
      "Epoch 47/100\n",
      "10000/10000 [==============================] - 1s 92us/step - loss: 0.0463 - val_loss: 0.0491\n",
      "Epoch 48/100\n",
      "10000/10000 [==============================] - 1s 91us/step - loss: 0.0462 - val_loss: 0.0477\n",
      "Epoch 49/100\n",
      "10000/10000 [==============================] - 1s 93us/step - loss: 0.0461 - val_loss: 0.0487\n",
      "Epoch 50/100\n",
      "10000/10000 [==============================] - 1s 94us/step - loss: 0.0460 - val_loss: 0.0479\n",
      "Epoch 51/100\n",
      "10000/10000 [==============================] - 1s 96us/step - loss: 0.0459 - val_loss: 0.0475\n",
      "Epoch 52/100\n",
      "10000/10000 [==============================] - 1s 93us/step - loss: 0.0456 - val_loss: 0.0473\n",
      "Epoch 53/100\n",
      "10000/10000 [==============================] - 1s 92us/step - loss: 0.0454 - val_loss: 0.0475\n",
      "Epoch 54/100\n",
      "10000/10000 [==============================] - 1s 94us/step - loss: 0.0451 - val_loss: 0.0471\n",
      "Epoch 55/100\n",
      "10000/10000 [==============================] - 1s 94us/step - loss: 0.0450 - val_loss: 0.0471\n",
      "Epoch 56/100\n",
      "10000/10000 [==============================] - 1s 94us/step - loss: 0.0449 - val_loss: 0.0486\n",
      "Epoch 57/100\n",
      "10000/10000 [==============================] - 1s 96us/step - loss: 0.0448 - val_loss: 0.0467\n",
      "Epoch 58/100\n",
      "10000/10000 [==============================] - 1s 96us/step - loss: 0.0447 - val_loss: 0.0471\n",
      "Epoch 59/100\n",
      "10000/10000 [==============================] - 1s 95us/step - loss: 0.0447 - val_loss: 0.0469\n",
      "Epoch 60/100\n",
      "10000/10000 [==============================] - 1s 95us/step - loss: 0.0445 - val_loss: 0.0464\n",
      "Epoch 61/100\n",
      "10000/10000 [==============================] - 1s 97us/step - loss: 0.0445 - val_loss: 0.0469\n",
      "Epoch 62/100\n",
      "10000/10000 [==============================] - 1s 96us/step - loss: 0.0444 - val_loss: 0.0468\n",
      "Epoch 63/100\n",
      "10000/10000 [==============================] - 1s 96us/step - loss: 0.0443 - val_loss: 0.0475\n",
      "Epoch 64/100\n",
      "10000/10000 [==============================] - 1s 95us/step - loss: 0.0443 - val_loss: 0.0471\n",
      "Epoch 65/100\n",
      "10000/10000 [==============================] - 1s 95us/step - loss: 0.0441 - val_loss: 0.0466\n",
      "Epoch 66/100\n",
      "10000/10000 [==============================] - 1s 95us/step - loss: 0.0440 - val_loss: 0.0470\n",
      "Epoch 67/100\n",
      "10000/10000 [==============================] - 1s 97us/step - loss: 0.0438 - val_loss: 0.0474\n",
      "Epoch 68/100\n",
      "10000/10000 [==============================] - 1s 96us/step - loss: 0.0438 - val_loss: 0.0470\n",
      "Epoch 69/100\n",
      "10000/10000 [==============================] - 1s 98us/step - loss: 0.0437 - val_loss: 0.0475\n",
      "Epoch 70/100\n",
      "10000/10000 [==============================] - 1s 96us/step - loss: 0.0436 - val_loss: 0.0467\n",
      "Epoch 71/100\n",
      "10000/10000 [==============================] - 1s 96us/step - loss: 0.0436 - val_loss: 0.0470\n",
      "Epoch 72/100\n",
      "10000/10000 [==============================] - 1s 98us/step - loss: 0.0436 - val_loss: 0.0461\n",
      "Epoch 73/100\n",
      "10000/10000 [==============================] - 1s 96us/step - loss: 0.0435 - val_loss: 0.0469\n",
      "Epoch 74/100\n",
      "10000/10000 [==============================] - 1s 96us/step - loss: 0.0434 - val_loss: 0.0473\n",
      "Epoch 75/100\n",
      "10000/10000 [==============================] - 1s 95us/step - loss: 0.0434 - val_loss: 0.0465\n",
      "Epoch 76/100\n",
      "10000/10000 [==============================] - 1s 96us/step - loss: 0.0433 - val_loss: 0.0463\n",
      "Epoch 77/100\n",
      "10000/10000 [==============================] - 1s 95us/step - loss: 0.0433 - val_loss: 0.0462\n",
      "Epoch 78/100\n",
      "10000/10000 [==============================] - 1s 94us/step - loss: 0.0433 - val_loss: 0.0468\n",
      "Epoch 79/100\n",
      "10000/10000 [==============================] - 1s 97us/step - loss: 0.0433 - val_loss: 0.0464\n",
      "Epoch 80/100\n",
      "10000/10000 [==============================] - 1s 96us/step - loss: 0.0431 - val_loss: 0.0459\n",
      "Epoch 81/100\n",
      "10000/10000 [==============================] - 1s 96us/step - loss: 0.0430 - val_loss: 0.0465\n",
      "Epoch 82/100\n",
      "10000/10000 [==============================] - 1s 97us/step - loss: 0.0429 - val_loss: 0.0469\n",
      "Epoch 83/100\n",
      "10000/10000 [==============================] - 1s 97us/step - loss: 0.0429 - val_loss: 0.0462\n",
      "Epoch 84/100\n",
      "10000/10000 [==============================] - 1s 96us/step - loss: 0.0428 - val_loss: 0.0463\n",
      "Epoch 85/100\n",
      "10000/10000 [==============================] - 1s 96us/step - loss: 0.0428 - val_loss: 0.0459\n",
      "Epoch 86/100\n",
      "10000/10000 [==============================] - 1s 96us/step - loss: 0.0427 - val_loss: 0.0464\n",
      "Epoch 87/100\n",
      "10000/10000 [==============================] - 1s 96us/step - loss: 0.0427 - val_loss: 0.0459\n",
      "Epoch 88/100\n",
      "10000/10000 [==============================] - 1s 97us/step - loss: 0.0427 - val_loss: 0.0468\n",
      "Epoch 89/100\n",
      "10000/10000 [==============================] - 1s 95us/step - loss: 0.0426 - val_loss: 0.0457\n",
      "Epoch 90/100\n",
      "10000/10000 [==============================] - 1s 98us/step - loss: 0.0426 - val_loss: 0.0458\n",
      "Epoch 91/100\n",
      "10000/10000 [==============================] - 1s 95us/step - loss: 0.0425 - val_loss: 0.0454\n",
      "Epoch 92/100\n",
      "10000/10000 [==============================] - 1s 98us/step - loss: 0.0424 - val_loss: 0.0459\n",
      "Epoch 93/100\n",
      "10000/10000 [==============================] - 1s 114us/step - loss: 0.0424 - val_loss: 0.0462\n",
      "Epoch 94/100\n",
      "10000/10000 [==============================] - 1s 110us/step - loss: 0.0424 - val_loss: 0.0456\n",
      "Epoch 95/100\n",
      "10000/10000 [==============================] - 1s 110us/step - loss: 0.0423 - val_loss: 0.0455\n",
      "Epoch 96/100\n",
      "10000/10000 [==============================] - 1s 110us/step - loss: 0.0423 - val_loss: 0.0462\n",
      "Epoch 97/100\n",
      "10000/10000 [==============================] - 1s 110us/step - loss: 0.0423 - val_loss: 0.0466\n",
      "Epoch 98/100\n",
      "10000/10000 [==============================] - 1s 110us/step - loss: 0.0422 - val_loss: 0.0460\n",
      "Epoch 99/100\n",
      "10000/10000 [==============================] - 1s 109us/step - loss: 0.0422 - val_loss: 0.0455\n",
      "Epoch 100/100\n",
      "10000/10000 [==============================] - 1s 111us/step - loss: 0.0421 - val_loss: 0.0456\n"
     ]
    }
   ],
   "source": [
    "history = ae.fit(x_tr, x_tr, \n",
    "                 batch_size=128, \n",
    "                 epochs=100, \n",
    "                 validation_data=(x_val, x_val))"
   ]
  },
  {
   "cell_type": "code",
   "execution_count": 45,
   "metadata": {
    "colab": {
     "base_uri": "https://localhost:8080/",
     "height": 283
    },
    "colab_type": "code",
    "id": "lQSvxRIXFT72",
    "outputId": "f0fef13c-91a7-463b-b062-28741c32a8c6"
   },
   "outputs": [
    {
     "data": {
      "image/png": "[encoded data removed]",
      "text/plain": [
       "<Figure size 432x288 with 1 Axes>"
      ]
     },
     "metadata": {
      "tags": []
     },
     "output_type": "display_data"
    }
   ],
   "source": [
    "import matplotlib.pyplot as plt\n",
    "%matplotlib inline\n",
    "\n",
    "loss = history.history['loss']\n",
    "val_loss = history.history['val_loss']\n",
    "\n",
    "epochs = range(len(loss))\n",
    "\n",
    "plt.plot(epochs, loss, 'bo', label='Training Loss')\n",
    "plt.plot(epochs, val_loss, 'r', label='Validation Loss')\n",
    "plt.xlabel('Epochs')\n",
    "plt.ylabel('Loss')\n",
    "plt.legend()\n",
    "plt.show()"
   ]
  },
  {
   "cell_type": "markdown",
   "metadata": {
    "colab_type": "text",
    "id": "tkqjCCweFT74"
   },
   "source": [
    "### 2.3. Visualize the reconstructed test images"
   ]
  },
  {
   "cell_type": "code",
   "execution_count": 46,
   "metadata": {
    "colab": {
     "base_uri": "https://localhost:8080/",
     "height": 729
    },
    "colab_type": "code",
    "id": "y_Wf8O-tFT75",
    "outputId": "8fbb184f-eb37-43b9-93ab-36cc9bc53fb0"
   },
   "outputs": [
    {
     "data": {
      "image/png": "[encoded data removed]",
      "text/plain": [
       "<Figure size 576x720 with 20 Axes>"
      ]
     },
     "metadata": {
      "tags": []
     },
     "output_type": "display_data"
    }
   ],
   "source": [
    "ae_output = ae.predict(x_test).reshape((10000, 28, 28))\n",
    "\n",
    "ROW = 5\n",
    "COLUMN = 4\n",
    "\n",
    "x = ae_output\n",
    "fname = 'reconstruct_ae.pdf'\n",
    "\n",
    "fig, axes = plt.subplots(nrows=ROW, ncols=COLUMN, figsize=(8, 10))\n",
    "for ax, i in zip(axes.flat, numpy.arange(ROW*COLUMN)):\n",
    "    image = x[i].reshape(28, 28)\n",
    "    ax.imshow(image, cmap='gray')\n",
    "    ax.axis('off')\n",
    "\n",
    "plt.tight_layout()\n",
    "plt.savefig(fname)\n",
    "plt.show()"
   ]
  },
  {
   "cell_type": "markdown",
   "metadata": {
    "colab_type": "text",
    "id": "LSLIhVUEFT79"
   },
   "source": [
    "### 2.4. Evaluate the model on the test set\n",
    "\n",
    "Do NOT used the test set until now. Make sure that your model parameters and hyper-parameters are independent of the test set."
   ]
  },
  {
   "cell_type": "code",
   "execution_count": 47,
   "metadata": {
    "colab": {
     "base_uri": "https://localhost:8080/",
     "height": 51
    },
    "colab_type": "code",
    "id": "YFjbIH0xFT79",
    "outputId": "27d4aa23-2a85-4a44-d5b2-cc141bf4de2c"
   },
   "outputs": [
    {
     "name": "stdout",
     "output_type": "stream",
     "text": [
      "10000/10000 [==============================] - 0s 46us/step\n",
      "loss = 0.04574853339791298\n"
     ]
    }
   ],
   "source": [
    "loss = ae.evaluate(x_test, x_test)\n",
    "print('loss = ' + str(loss))"
   ]
  },
  {
   "cell_type": "markdown",
   "metadata": {
    "colab_type": "text",
    "id": "9oe5MoM6FT7_"
   },
   "source": [
    "### 2.5. Visualize the low-dimensional features"
   ]
  },
  {
   "cell_type": "code",
   "execution_count": 48,
   "metadata": {
    "colab": {
     "base_uri": "https://localhost:8080/",
     "height": 306
    },
    "colab_type": "code",
    "id": "hZJLFLaGFT8A",
    "outputId": "52336c9e-e92b-4e39-f36b-e05eb0a4f8f6"
   },
   "outputs": [
    {
     "name": "stdout",
     "output_type": "stream",
     "text": [
      "_________________________________________________________________\n",
      "Layer (type)                 Output Shape              Param #   \n",
      "=================================================================\n",
      "input_img (InputLayer)       (None, 784)               0         \n",
      "_________________________________________________________________\n",
      "encode1 (Dense)              (None, 128)               100480    \n",
      "_________________________________________________________________\n",
      "encode2 (Dense)              (None, 32)                4128      \n",
      "_________________________________________________________________\n",
      "encode3 (Dense)              (None, 8)                 264       \n",
      "_________________________________________________________________\n",
      "bottleneck (Dense)           (None, 2)                 18        \n",
      "=================================================================\n",
      "Total params: 104,890\n",
      "Trainable params: 104,890\n",
      "Non-trainable params: 0\n",
      "_________________________________________________________________\n"
     ]
    }
   ],
   "source": [
    "# build the encoder network\n",
    "ae_encoder = models.Model(input_img, bottleneck)\n",
    "ae_encoder.summary()"
   ]
  },
  {
   "cell_type": "code",
   "execution_count": 49,
   "metadata": {
    "colab": {
     "base_uri": "https://localhost:8080/",
     "height": 34
    },
    "colab_type": "code",
    "id": "2DPWDevHFT8D",
    "outputId": "983032ea-29ce-4a1c-8db2-edb03db38f47"
   },
   "outputs": [
    {
     "name": "stdout",
     "output_type": "stream",
     "text": [
      "Shape of encoded_test: (10000, 2)\n"
     ]
    }
   ],
   "source": [
    "# extract low-dimensional features from the test data\n",
    "encoded_test = ae_encoder.predict(x_test)\n",
    "print('Shape of encoded_test: ' + str(encoded_test.shape))"
   ]
  },
  {
   "cell_type": "code",
   "execution_count": 50,
   "metadata": {
    "colab": {
     "base_uri": "https://localhost:8080/",
     "height": 585
    },
    "colab_type": "code",
    "id": "Q0vJDQJxFT8H",
    "outputId": "2fa29474-ff0a-4710-fdc6-640331309559"
   },
   "outputs": [
    {
     "data": {
      "image/png": "[encoded data removed]",
      "text/plain": [
       "<Figure size 576x576 with 1 Axes>"
      ]
     },
     "metadata": {
      "tags": []
     },
     "output_type": "display_data"
    }
   ],
   "source": [
    "colors = numpy.array(['r', 'g', 'b', 'm', 'c', 'k', 'y', 'purple', 'darkred', 'navy'])\n",
    "colors_test = colors[y_test]\n",
    "\n",
    "\n",
    "import matplotlib.pyplot as plt\n",
    "%matplotlib inline\n",
    "\n",
    "fig = plt.figure(figsize=(8, 8))\n",
    "plt.scatter(encoded_test[:, 0], encoded_test[:, 1], s=10, c=colors_test, edgecolors=colors_test)\n",
    "plt.axis('off')\n",
    "plt.tight_layout()\n",
    "fname = 'ae_code.pdf'\n",
    "plt.savefig(fname)"
   ]
  },
  {
   "cell_type": "markdown",
   "metadata": {
    "colab_type": "text",
    "id": "ncN2vafpFT8K"
   },
   "source": [
    "#### Remark:\n",
    "\n",
    "Judging from the visualization, the low-dim features seems not discriminative, as 2D features from different classes are mixed. Let quantatively find out whether they are discriminative."
   ]
  },
  {
   "cell_type": "markdown",
   "metadata": {
    "colab_type": "text",
    "id": "wOXlT6IqFT8M"
   },
   "source": [
    "## 3. Are the learned low-dim features discriminative?\n",
    "\n",
    "To find the answer, lets train a classifier on the training set (the extracted 2-dim features) and evaluation on the test set."
   ]
  },
  {
   "cell_type": "code",
   "execution_count": 51,
   "metadata": {
    "colab": {
     "base_uri": "https://localhost:8080/",
     "height": 51
    },
    "colab_type": "code",
    "id": "7zhsaraHFT8N",
    "outputId": "f80aee86-75b6-4edd-f985-9503c9544f20"
   },
   "outputs": [
    {
     "name": "stdout",
     "output_type": "stream",
     "text": [
      "Shape of f_tr: (10000, 2)\n",
      "Shape of f_te: (10000, 2)\n"
     ]
    }
   ],
   "source": [
    "# extract the 2D features from the training, validation, and test samples\n",
    "f_tr = ae_encoder.predict(x_tr)\n",
    "f_val = ae_encoder.predict(x_val)\n",
    "f_te = ae_encoder.predict(x_test)\n",
    "\n",
    "print('Shape of f_tr: ' + str(f_tr.shape))\n",
    "print('Shape of f_te: ' + str(f_te.shape))"
   ]
  },
  {
   "cell_type": "code",
   "execution_count": 53,
   "metadata": {
    "colab": {
     "base_uri": "https://localhost:8080/",
     "height": 272
    },
    "colab_type": "code",
    "id": "-YfL2W7EFT8Q",
    "outputId": "f5e512d0-715a-4fad-9c46-f1f888886a85"
   },
   "outputs": [
    {
     "name": "stdout",
     "output_type": "stream",
     "text": [
      "_________________________________________________________________\n",
      "Layer (type)                 Output Shape              Param #   \n",
      "=================================================================\n",
      "input_3 (InputLayer)         (None, 2)                 0         \n",
      "_________________________________________________________________\n",
      "dense_7 (Dense)              (None, 128)               384       \n",
      "_________________________________________________________________\n",
      "dense_8 (Dense)              (None, 128)               16512     \n",
      "_________________________________________________________________\n",
      "dense_9 (Dense)              (None, 10)                1290      \n",
      "=================================================================\n",
      "Total params: 18,186\n",
      "Trainable params: 18,186\n",
      "Non-trainable params: 0\n",
      "_________________________________________________________________\n"
     ]
    }
   ],
   "source": [
    "from keras.layers import Dense, Input\n",
    "from keras import models\n",
    "\n",
    "input_feat = Input(shape=(2,))\n",
    "\n",
    "hidden1 = Dense(128, activation='relu')(input_feat)\n",
    "hidden2 = Dense(128, activation='relu')(hidden1)\n",
    "output = Dense(10, activation='softmax')(hidden2)\n",
    "\n",
    "classifier = models.Model(input_feat, output)\n",
    "\n",
    "classifier.summary()"
   ]
  },
  {
   "cell_type": "code",
   "execution_count": 54,
   "metadata": {
    "colab": {
     "base_uri": "https://localhost:8080/",
     "height": 1054
    },
    "colab_type": "code",
    "id": "gPPM4HK1FT8T",
    "outputId": "e6d81b9e-71a0-49bf-ebdb-1f7e2cae453c"
   },
   "outputs": [
    {
     "name": "stdout",
     "output_type": "stream",
     "text": [
      "Train on 10000 samples, validate on 50000 samples\n",
      "Epoch 1/30\n",
      "10000/10000 [==============================] - 3s 345us/step - loss: 2.0752 - acc: 0.2009 - val_loss: 1.8497 - val_acc: 0.2611\n",
      "Epoch 2/30\n",
      "10000/10000 [==============================] - 3s 270us/step - loss: 1.7411 - acc: 0.3167 - val_loss: 1.6460 - val_acc: 0.3675\n",
      "Epoch 3/30\n",
      "10000/10000 [==============================] - 3s 266us/step - loss: 1.5831 - acc: 0.4234 - val_loss: 1.5205 - val_acc: 0.4783\n",
      "Epoch 4/30\n",
      "10000/10000 [==============================] - 3s 269us/step - loss: 1.4735 - acc: 0.5181 - val_loss: 1.4130 - val_acc: 0.5530\n",
      "Epoch 5/30\n",
      "10000/10000 [==============================] - 3s 264us/step - loss: 1.3777 - acc: 0.5791 - val_loss: 1.3237 - val_acc: 0.6043\n",
      "Epoch 6/30\n",
      "10000/10000 [==============================] - 3s 275us/step - loss: 1.2993 - acc: 0.6170 - val_loss: 1.2529 - val_acc: 0.6175\n",
      "Epoch 7/30\n",
      "10000/10000 [==============================] - 3s 324us/step - loss: 1.2384 - acc: 0.6420 - val_loss: 1.2017 - val_acc: 0.6366\n",
      "Epoch 8/30\n",
      "10000/10000 [==============================] - 3s 319us/step - loss: 1.1926 - acc: 0.6563 - val_loss: 1.1663 - val_acc: 0.6421\n",
      "Epoch 9/30\n",
      "10000/10000 [==============================] - 3s 323us/step - loss: 1.1566 - acc: 0.6657 - val_loss: 1.1342 - val_acc: 0.6529\n",
      "Epoch 10/30\n",
      "10000/10000 [==============================] - 3s 269us/step - loss: 1.1275 - acc: 0.6739 - val_loss: 1.1074 - val_acc: 0.6640\n",
      "Epoch 11/30\n",
      "10000/10000 [==============================] - 3s 268us/step - loss: 1.1014 - acc: 0.6779 - val_loss: 1.0853 - val_acc: 0.6637\n",
      "Epoch 12/30\n",
      "10000/10000 [==============================] - 3s 269us/step - loss: 1.0800 - acc: 0.6816 - val_loss: 1.0676 - val_acc: 0.6661\n",
      "Epoch 13/30\n",
      "10000/10000 [==============================] - 3s 302us/step - loss: 1.0602 - acc: 0.6829 - val_loss: 1.0521 - val_acc: 0.6689\n",
      "Epoch 14/30\n",
      "10000/10000 [==============================] - 3s 303us/step - loss: 1.0425 - acc: 0.6901 - val_loss: 1.0406 - val_acc: 0.6708\n",
      "Epoch 15/30\n",
      "10000/10000 [==============================] - 3s 303us/step - loss: 1.0271 - acc: 0.6959 - val_loss: 1.0243 - val_acc: 0.6756\n",
      "Epoch 16/30\n",
      "10000/10000 [==============================] - 3s 273us/step - loss: 1.0132 - acc: 0.6988 - val_loss: 1.0138 - val_acc: 0.6751\n",
      "Epoch 17/30\n",
      "10000/10000 [==============================] - 3s 269us/step - loss: 1.0001 - acc: 0.6998 - val_loss: 1.0058 - val_acc: 0.6812\n",
      "Epoch 18/30\n",
      "10000/10000 [==============================] - 3s 268us/step - loss: 0.9890 - acc: 0.7066 - val_loss: 0.9953 - val_acc: 0.6850\n",
      "Epoch 19/30\n",
      "10000/10000 [==============================] - 3s 265us/step - loss: 0.9788 - acc: 0.7092 - val_loss: 0.9864 - val_acc: 0.6864\n",
      "Epoch 20/30\n",
      "10000/10000 [==============================] - 3s 267us/step - loss: 0.9687 - acc: 0.7111 - val_loss: 0.9834 - val_acc: 0.6862\n",
      "Epoch 21/30\n",
      "10000/10000 [==============================] - 3s 265us/step - loss: 0.9601 - acc: 0.7133 - val_loss: 0.9729 - val_acc: 0.6914\n",
      "Epoch 22/30\n",
      "10000/10000 [==============================] - 3s 270us/step - loss: 0.9511 - acc: 0.7166 - val_loss: 0.9659 - val_acc: 0.6947\n",
      "Epoch 23/30\n",
      "10000/10000 [==============================] - 3s 265us/step - loss: 0.9449 - acc: 0.7157 - val_loss: 0.9613 - val_acc: 0.6972\n",
      "Epoch 24/30\n",
      "10000/10000 [==============================] - 3s 268us/step - loss: 0.9380 - acc: 0.7209 - val_loss: 0.9579 - val_acc: 0.6954\n",
      "Epoch 25/30\n",
      "10000/10000 [==============================] - 3s 268us/step - loss: 0.9318 - acc: 0.7202 - val_loss: 0.9515 - val_acc: 0.6988\n",
      "Epoch 26/30\n",
      "10000/10000 [==============================] - 3s 264us/step - loss: 0.9258 - acc: 0.7216 - val_loss: 0.9490 - val_acc: 0.6990\n",
      "Epoch 27/30\n",
      "10000/10000 [==============================] - 3s 267us/step - loss: 0.9208 - acc: 0.7234 - val_loss: 0.9461 - val_acc: 0.6937\n",
      "Epoch 28/30\n",
      "10000/10000 [==============================] - 3s 264us/step - loss: 0.9162 - acc: 0.7236 - val_loss: 0.9444 - val_acc: 0.6982\n",
      "Epoch 29/30\n",
      "10000/10000 [==============================] - 3s 263us/step - loss: 0.9115 - acc: 0.7251 - val_loss: 0.9376 - val_acc: 0.7013\n",
      "Epoch 30/30\n",
      "10000/10000 [==============================] - 3s 266us/step - loss: 0.9065 - acc: 0.7254 - val_loss: 0.9341 - val_acc: 0.7027\n"
     ]
    }
   ],
   "source": [
    "classifier.compile(loss='categorical_crossentropy',\n",
    "                  optimizer=optimizers.RMSprop(lr=1E-4),\n",
    "                  metrics=['acc'])\n",
    "\n",
    "history = classifier.fit(f_tr, y_tr, \n",
    "                        batch_size=32, \n",
    "                        epochs=30, \n",
    "                        validation_data=(f_val, y_val))"
   ]
  },
  {
   "cell_type": "markdown",
   "metadata": {
    "colab_type": "text",
    "id": "PWh6IOZmFT8V"
   },
   "source": [
    "### Conclusion\n",
    "\n",
    "Using the 2D features, the validation accuracy is 60~70%. Recall that using the original data, the accuracy is about 98%. Obviously, the 2D features are not very discriminative.\n",
    "\n",
    "We are going to build a supervised autoencode model for learning low-dimensional discriminative features."
   ]
  },
  {
   "cell_type": "code",
   "execution_count": 0,
   "metadata": {
    "colab": {},
    "colab_type": "code",
    "id": "56wbkXk6FT8W"
   },
   "outputs": [],
   "source": []
  },
  {
   "cell_type": "code",
   "execution_count": 0,
   "metadata": {
    "colab": {},
    "colab_type": "code",
    "id": "ajZ9MZKZFT8Y"
   },
   "outputs": [],
   "source": []
  },
  {
   "cell_type": "markdown",
   "metadata": {
    "colab_type": "text",
    "id": "zLCS-n-LFT8a"
   },
   "source": [
    "## 4. Build a supervised autoencoder model\n",
    "\n",
    "\n",
    "**You are required to build and train a supervised autoencoder look like the following.** (Not necessary the same.) You are required to add other layers properly to alleviate overfitting.\n",
    "\n",
    "\n",
    "![Network Structure](https://github.com/wangshusen/CS583A-2019Spring/blob/master/homework/HM5/supervised_ae.png?raw=true \"NetworkStructure\")\n"
   ]
  },
  {
   "cell_type": "markdown",
   "metadata": {
    "colab_type": "text",
    "id": "E8anQMUwFT8a"
   },
   "source": [
    "### 4.1. Build the network"
   ]
  },
  {
   "cell_type": "code",
   "execution_count": 0,
   "metadata": {
    "colab": {},
    "colab_type": "code",
    "id": "VOPi_oXAFT8b"
   },
   "outputs": [],
   "source": [
    "# build the supervised autoencoder network\n",
    "from keras.layers import Dense, Input, Dropout, BatchNormalization, Activation\n",
    "from keras import models\n",
    "\n",
    "input_img = Input(shape=(784,), name='input_img')\n",
    "\n",
    "# encoder network\n",
    "encode1 = Dense(128, activation='relu', name='encode1')(input_img)\n",
    "encode2 = Dense(32, activation='relu', name='encode2')(encode1)\n",
    "encode3 = Dense(8, activation='relu', name='encode3')(encode2)\n",
    "\n",
    "# The width of the bottleneck layer must be exactly 2.\n",
    "bottleneck = Dense(2, activation='relu', name='bottleneck')(encode3)\n",
    "\n",
    "# decoder network\n",
    "decode1 = Dense(8, activation='relu', name='decode1')(bottleneck)\n",
    "decode2 = Dense(32, activation='relu', name='decode2')(decode1)\n",
    "decode3 = Dense(128, activation='relu', name='decode3')(decode2)\n",
    "decode4 = Dense(784, activation='relu', name='decode4')(decode3)\n",
    "\n",
    "# build a classifier upon the bottleneck layer\n",
    "classifier1 = Dense(128, name='classifier1')(bottleneck)\n",
    "batchNormalization1 = BatchNormalization()(classifier1)\n",
    "activation1 = Activation('relu')(batchNormalization1)\n",
    "\n",
    "classifier2 = Dense(128, name='classifier2')(activation1)\n",
    "batchNormalization2 = BatchNormalization()(classifier2)\n",
    "activation2 = Activation('relu')(batchNormalization2)\n",
    "dropout2 = Dropout(0.5)(activation2)\n",
    "\n",
    "classifier3 = Dense(64, name='classifier3')(dropout2)\n",
    "batchNormalization3 = BatchNormalization()(classifier3)\n",
    "activation3 = Activation('relu')(batchNormalization3)\n",
    "\n",
    "classifier4 = Dense(10, name='classifier4')(activation3)\n",
    "batchNormalization4 = BatchNormalization()(classifier4)\n",
    "activation4 = Activation('softmax')(batchNormalization4)"
   ]
  },
  {
   "cell_type": "code",
   "execution_count": 56,
   "metadata": {
    "colab": {
     "base_uri": "https://localhost:8080/",
     "height": 884
    },
    "colab_type": "code",
    "id": "AqSRD9ziFT8d",
    "outputId": "097a5cc8-174d-4dc0-ff71-e00a10e0b2f4"
   },
   "outputs": [
    {
     "name": "stdout",
     "output_type": "stream",
     "text": [
      "__________________________________________________________________________________________________\n",
      "Layer (type)                    Output Shape         Param #     Connected to                     \n",
      "==================================================================================================\n",
      "input_img (InputLayer)          (None, 784)          0                                            \n",
      "__________________________________________________________________________________________________\n",
      "encode1 (Dense)                 (None, 128)          100480      input_img[0][0]                  \n",
      "__________________________________________________________________________________________________\n",
      "encode2 (Dense)                 (None, 32)           4128        encode1[0][0]                    \n",
      "__________________________________________________________________________________________________\n",
      "encode3 (Dense)                 (None, 8)            264         encode2[0][0]                    \n",
      "__________________________________________________________________________________________________\n",
      "bottleneck (Dense)              (None, 2)            18          encode3[0][0]                    \n",
      "__________________________________________________________________________________________________\n",
      "classifier1 (Dense)             (None, 128)          384         bottleneck[0][0]                 \n",
      "__________________________________________________________________________________________________\n",
      "batch_normalization_9 (BatchNor (None, 128)          512         classifier1[0][0]                \n",
      "__________________________________________________________________________________________________\n",
      "activation_9 (Activation)       (None, 128)          0           batch_normalization_9[0][0]      \n",
      "__________________________________________________________________________________________________\n",
      "classifier2 (Dense)             (None, 128)          16512       activation_9[0][0]               \n",
      "__________________________________________________________________________________________________\n",
      "batch_normalization_10 (BatchNo (None, 128)          512         classifier2[0][0]                \n",
      "__________________________________________________________________________________________________\n",
      "activation_10 (Activation)      (None, 128)          0           batch_normalization_10[0][0]     \n",
      "__________________________________________________________________________________________________\n",
      "dropout_3 (Dropout)             (None, 128)          0           activation_10[0][0]              \n",
      "__________________________________________________________________________________________________\n",
      "classifier3 (Dense)             (None, 64)           8256        dropout_3[0][0]                  \n",
      "__________________________________________________________________________________________________\n",
      "batch_normalization_11 (BatchNo (None, 64)           256         classifier3[0][0]                \n",
      "__________________________________________________________________________________________________\n",
      "decode1 (Dense)                 (None, 8)            24          bottleneck[0][0]                 \n",
      "__________________________________________________________________________________________________\n",
      "activation_11 (Activation)      (None, 64)           0           batch_normalization_11[0][0]     \n",
      "__________________________________________________________________________________________________\n",
      "decode2 (Dense)                 (None, 32)           288         decode1[0][0]                    \n",
      "__________________________________________________________________________________________________\n",
      "classifier4 (Dense)             (None, 10)           650         activation_11[0][0]              \n",
      "__________________________________________________________________________________________________\n",
      "decode3 (Dense)                 (None, 128)          4224        decode2[0][0]                    \n",
      "__________________________________________________________________________________________________\n",
      "batch_normalization_12 (BatchNo (None, 10)           40          classifier4[0][0]                \n",
      "__________________________________________________________________________________________________\n",
      "decode4 (Dense)                 (None, 784)          101136      decode3[0][0]                    \n",
      "__________________________________________________________________________________________________\n",
      "activation_12 (Activation)      (None, 10)           0           batch_normalization_12[0][0]     \n",
      "==================================================================================================\n",
      "Total params: 237,684\n",
      "Trainable params: 237,024\n",
      "Non-trainable params: 660\n",
      "__________________________________________________________________________________________________\n"
     ]
    }
   ],
   "source": [
    "# connect the input and the two outputs\n",
    "sae = models.Model(input_img, [decode4, activation4])\n",
    "\n",
    "sae.summary()"
   ]
  },
  {
   "cell_type": "code",
   "execution_count": 0,
   "metadata": {
    "colab": {},
    "colab_type": "code",
    "id": "8lLz5VKtFT8f"
   },
   "outputs": [],
   "source": [
    "# # print the network structure to a PDF file\n",
    "\n",
    "# from IPython.display import SVG\n",
    "# from keras.utils.vis_utils import model_to_dot, plot_model\n",
    "\n",
    "# SVG(model_to_dot(sae, show_shapes=False).create(prog='dot', format='svg'))\n",
    "\n",
    "# plot_model(\n",
    "#     model=sae, show_shapes=False,\n",
    "#     to_file='supervised_ae.pdf'\n",
    "# )\n",
    "\n",
    "# # you can find the file \"supervised_ae.pdf\" in the current directory."
   ]
  },
  {
   "cell_type": "markdown",
   "metadata": {
    "colab_type": "text",
    "id": "bXx40-aMFT8h"
   },
   "source": [
    "### 4.2. Train the new model and tune the hyper-parameters\n",
    "\n",
    "The new model has multiple output. Thus we specify **multiple** loss functions and their weights. "
   ]
  },
  {
   "cell_type": "code",
   "execution_count": 57,
   "metadata": {
    "colab": {
     "base_uri": "https://localhost:8080/",
     "height": 3454
    },
    "colab_type": "code",
    "id": "x2vfF-b1FT8i",
    "outputId": "66fe8c66-64c9-4286-e15c-15906ecd3128"
   },
   "outputs": [
    {
     "name": "stdout",
     "output_type": "stream",
     "text": [
      "Train on 10000 samples, validate on 50000 samples\n",
      "Epoch 1/100\n",
      "10000/10000 [==============================] - 9s 919us/step - loss: 0.7620 - decode4_loss: 0.0858 - activation_12_loss: 1.6907 - val_loss: 0.6458 - val_decode4_loss: 0.0802 - val_activation_12_loss: 1.4139\n",
      "Epoch 2/100\n",
      "10000/10000 [==============================] - 8s 839us/step - loss: 0.6279 - decode4_loss: 0.0776 - activation_12_loss: 1.3756 - val_loss: 0.5441 - val_decode4_loss: 0.0746 - val_activation_12_loss: 1.1738\n",
      "Epoch 3/100\n",
      "10000/10000 [==============================] - 8s 773us/step - loss: 0.5833 - decode4_loss: 0.0733 - activation_12_loss: 1.2752 - val_loss: 0.4822 - val_decode4_loss: 0.0704 - val_activation_12_loss: 1.0295\n",
      "Epoch 4/100\n",
      "10000/10000 [==============================] - 7s 741us/step - loss: 0.5552 - decode4_loss: 0.0705 - activation_12_loss: 1.2117 - val_loss: 0.4654 - val_decode4_loss: 0.0697 - val_activation_12_loss: 0.9893\n",
      "Epoch 5/100\n",
      "10000/10000 [==============================] - 7s 745us/step - loss: 0.5366 - decode4_loss: 0.0691 - activation_12_loss: 1.1687 - val_loss: 0.4437 - val_decode4_loss: 0.0682 - val_activation_12_loss: 0.9388\n",
      "Epoch 6/100\n",
      "10000/10000 [==============================] - 7s 741us/step - loss: 0.5177 - decode4_loss: 0.0680 - activation_12_loss: 1.1241 - val_loss: 0.4395 - val_decode4_loss: 0.0676 - val_activation_12_loss: 0.9298\n",
      "Epoch 7/100\n",
      "10000/10000 [==============================] - 7s 743us/step - loss: 0.4899 - decode4_loss: 0.0675 - activation_12_loss: 1.0560 - val_loss: 0.5047 - val_decode4_loss: 0.0676 - val_activation_12_loss: 1.0928\n",
      "Epoch 8/100\n",
      "10000/10000 [==============================] - 7s 746us/step - loss: 0.4756 - decode4_loss: 0.0670 - activation_12_loss: 1.0216 - val_loss: 0.4016 - val_decode4_loss: 0.0667 - val_activation_12_loss: 0.8371\n",
      "Epoch 9/100\n",
      "10000/10000 [==============================] - 7s 743us/step - loss: 0.4830 - decode4_loss: 0.0666 - activation_12_loss: 1.0410 - val_loss: 0.4897 - val_decode4_loss: 0.0676 - val_activation_12_loss: 1.0553\n",
      "Epoch 10/100\n",
      "10000/10000 [==============================] - 7s 744us/step - loss: 0.4607 - decode4_loss: 0.0661 - activation_12_loss: 0.9867 - val_loss: 0.3778 - val_decode4_loss: 0.0658 - val_activation_12_loss: 0.7800\n",
      "Epoch 11/100\n",
      "10000/10000 [==============================] - 7s 742us/step - loss: 0.4553 - decode4_loss: 0.0655 - activation_12_loss: 0.9746 - val_loss: 0.4364 - val_decode4_loss: 0.0652 - val_activation_12_loss: 0.9281\n",
      "Epoch 12/100\n",
      "10000/10000 [==============================] - 8s 767us/step - loss: 0.4368 - decode4_loss: 0.0648 - activation_12_loss: 0.9302 - val_loss: 0.3706 - val_decode4_loss: 0.0642 - val_activation_12_loss: 0.7660\n",
      "Epoch 13/100\n",
      "10000/10000 [==============================] - 8s 835us/step - loss: 0.4186 - decode4_loss: 0.0642 - activation_12_loss: 0.8858 - val_loss: 0.3696 - val_decode4_loss: 0.0642 - val_activation_12_loss: 0.7635\n",
      "Epoch 14/100\n",
      "10000/10000 [==============================] - 7s 743us/step - loss: 0.4086 - decode4_loss: 0.0640 - activation_12_loss: 0.8616 - val_loss: 0.6101 - val_decode4_loss: 0.0651 - val_activation_12_loss: 1.3625\n",
      "Epoch 15/100\n",
      "10000/10000 [==============================] - 7s 745us/step - loss: 0.4012 - decode4_loss: 0.0638 - activation_12_loss: 0.8435 - val_loss: 0.4137 - val_decode4_loss: 0.0635 - val_activation_12_loss: 0.8756\n",
      "Epoch 16/100\n",
      "10000/10000 [==============================] - 7s 743us/step - loss: 0.3976 - decode4_loss: 0.0630 - activation_12_loss: 0.8364 - val_loss: 0.3520 - val_decode4_loss: 0.0626 - val_activation_12_loss: 0.7235\n",
      "Epoch 17/100\n",
      "10000/10000 [==============================] - 7s 742us/step - loss: 0.3851 - decode4_loss: 0.0627 - activation_12_loss: 0.8058 - val_loss: 0.3327 - val_decode4_loss: 0.0625 - val_activation_12_loss: 0.6754\n",
      "Epoch 18/100\n",
      "10000/10000 [==============================] - 7s 742us/step - loss: 0.3742 - decode4_loss: 0.0626 - activation_12_loss: 0.7788 - val_loss: 0.5181 - val_decode4_loss: 0.0649 - val_activation_12_loss: 1.1329\n",
      "Epoch 19/100\n",
      "10000/10000 [==============================] - 8s 818us/step - loss: 0.3760 - decode4_loss: 0.0624 - activation_12_loss: 0.7841 - val_loss: 0.3275 - val_decode4_loss: 0.0622 - val_activation_12_loss: 0.6633\n",
      "Epoch 20/100\n",
      "10000/10000 [==============================] - 8s 823us/step - loss: 0.3600 - decode4_loss: 0.0621 - activation_12_loss: 0.7449 - val_loss: 0.3441 - val_decode4_loss: 0.0623 - val_activation_12_loss: 0.7047\n",
      "Epoch 21/100\n",
      "10000/10000 [==============================] - 7s 738us/step - loss: 0.3541 - decode4_loss: 0.0617 - activation_12_loss: 0.7310 - val_loss: 0.3542 - val_decode4_loss: 0.0621 - val_activation_12_loss: 0.7302\n",
      "Epoch 22/100\n",
      "10000/10000 [==============================] - 7s 742us/step - loss: 0.3530 - decode4_loss: 0.0614 - activation_12_loss: 0.7288 - val_loss: 0.3589 - val_decode4_loss: 0.0611 - val_activation_12_loss: 0.7445\n",
      "Epoch 23/100\n",
      "10000/10000 [==============================] - 8s 811us/step - loss: 0.3450 - decode4_loss: 0.0610 - activation_12_loss: 0.7099 - val_loss: 0.4008 - val_decode4_loss: 0.0610 - val_activation_12_loss: 0.8493\n",
      "Epoch 24/100\n",
      "10000/10000 [==============================] - 8s 783us/step - loss: 0.3409 - decode4_loss: 0.0608 - activation_12_loss: 0.7001 - val_loss: 0.3467 - val_decode4_loss: 0.0607 - val_activation_12_loss: 0.7149\n",
      "Epoch 25/100\n",
      "10000/10000 [==============================] - 7s 738us/step - loss: 0.3348 - decode4_loss: 0.0607 - activation_12_loss: 0.6854 - val_loss: 0.3557 - val_decode4_loss: 0.0607 - val_activation_12_loss: 0.7373\n",
      "Epoch 26/100\n",
      "10000/10000 [==============================] - 7s 742us/step - loss: 0.3311 - decode4_loss: 0.0605 - activation_12_loss: 0.6765 - val_loss: 0.3385 - val_decode4_loss: 0.0608 - val_activation_12_loss: 0.6943\n",
      "Epoch 27/100\n",
      "10000/10000 [==============================] - 7s 738us/step - loss: 0.3257 - decode4_loss: 0.0603 - activation_12_loss: 0.6634 - val_loss: 0.2984 - val_decode4_loss: 0.0601 - val_activation_12_loss: 0.5956\n",
      "Epoch 28/100\n",
      "10000/10000 [==============================] - 7s 741us/step - loss: 0.3199 - decode4_loss: 0.0603 - activation_12_loss: 0.6491 - val_loss: 0.3893 - val_decode4_loss: 0.0603 - val_activation_12_loss: 0.8224\n",
      "Epoch 29/100\n",
      "10000/10000 [==============================] - 7s 737us/step - loss: 0.3067 - decode4_loss: 0.0601 - activation_12_loss: 0.6163 - val_loss: 0.3131 - val_decode4_loss: 0.0604 - val_activation_12_loss: 0.6318\n",
      "Epoch 30/100\n",
      "10000/10000 [==============================] - 7s 740us/step - loss: 0.2994 - decode4_loss: 0.0600 - activation_12_loss: 0.5985 - val_loss: 0.4017 - val_decode4_loss: 0.0607 - val_activation_12_loss: 0.8523\n",
      "Epoch 31/100\n",
      "10000/10000 [==============================] - 7s 741us/step - loss: 0.2914 - decode4_loss: 0.0599 - activation_12_loss: 0.5787 - val_loss: 0.3418 - val_decode4_loss: 0.0598 - val_activation_12_loss: 0.7050\n",
      "Epoch 32/100\n",
      "10000/10000 [==============================] - 7s 743us/step - loss: 0.2812 - decode4_loss: 0.0598 - activation_12_loss: 0.5533 - val_loss: 0.3357 - val_decode4_loss: 0.0600 - val_activation_12_loss: 0.6893\n",
      "Epoch 33/100\n",
      "10000/10000 [==============================] - 7s 742us/step - loss: 0.2801 - decode4_loss: 0.0598 - activation_12_loss: 0.5508 - val_loss: 0.3044 - val_decode4_loss: 0.0601 - val_activation_12_loss: 0.6108\n",
      "Epoch 34/100\n",
      "10000/10000 [==============================] - 8s 834us/step - loss: 0.2829 - decode4_loss: 0.0596 - activation_12_loss: 0.5583 - val_loss: 0.2967 - val_decode4_loss: 0.0593 - val_activation_12_loss: 0.5934\n",
      "Epoch 35/100\n",
      "10000/10000 [==============================] - 8s 758us/step - loss: 0.2709 - decode4_loss: 0.0591 - activation_12_loss: 0.5296 - val_loss: 0.2996 - val_decode4_loss: 0.0590 - val_activation_12_loss: 0.6016\n",
      "Epoch 36/100\n",
      "10000/10000 [==============================] - 7s 741us/step - loss: 0.2747 - decode4_loss: 0.0591 - activation_12_loss: 0.5391 - val_loss: 0.3007 - val_decode4_loss: 0.0595 - val_activation_12_loss: 0.6030\n",
      "Epoch 37/100\n",
      "10000/10000 [==============================] - 7s 735us/step - loss: 0.2668 - decode4_loss: 0.0588 - activation_12_loss: 0.5198 - val_loss: 0.3415 - val_decode4_loss: 0.0593 - val_activation_12_loss: 0.7057\n",
      "Epoch 38/100\n",
      "10000/10000 [==============================] - 7s 739us/step - loss: 0.2619 - decode4_loss: 0.0586 - activation_12_loss: 0.5084 - val_loss: 0.4094 - val_decode4_loss: 0.0587 - val_activation_12_loss: 0.8768\n",
      "Epoch 39/100\n",
      "10000/10000 [==============================] - 7s 740us/step - loss: 0.2571 - decode4_loss: 0.0583 - activation_12_loss: 0.4969 - val_loss: 0.3708 - val_decode4_loss: 0.0588 - val_activation_12_loss: 0.7802\n",
      "Epoch 40/100\n",
      "10000/10000 [==============================] - 7s 742us/step - loss: 0.2553 - decode4_loss: 0.0583 - activation_12_loss: 0.4925 - val_loss: 0.3288 - val_decode4_loss: 0.0585 - val_activation_12_loss: 0.6760\n",
      "Epoch 41/100\n",
      "10000/10000 [==============================] - 7s 737us/step - loss: 0.2496 - decode4_loss: 0.0581 - activation_12_loss: 0.4789 - val_loss: 0.3157 - val_decode4_loss: 0.0582 - val_activation_12_loss: 0.6438\n",
      "Epoch 42/100\n",
      "10000/10000 [==============================] - 8s 793us/step - loss: 0.2503 - decode4_loss: 0.0580 - activation_12_loss: 0.4807 - val_loss: 0.8175 - val_decode4_loss: 0.0583 - val_activation_12_loss: 1.8979\n",
      "Epoch 43/100\n",
      "10000/10000 [==============================] - 8s 755us/step - loss: 0.2441 - decode4_loss: 0.0578 - activation_12_loss: 0.4658 - val_loss: 0.4117 - val_decode4_loss: 0.0583 - val_activation_12_loss: 0.8835\n",
      "Epoch 44/100\n",
      "10000/10000 [==============================] - 8s 773us/step - loss: 0.2514 - decode4_loss: 0.0577 - activation_12_loss: 0.4843 - val_loss: 0.4342 - val_decode4_loss: 0.0589 - val_activation_12_loss: 0.9384\n",
      "Epoch 45/100\n",
      "10000/10000 [==============================] - 8s 812us/step - loss: 0.2410 - decode4_loss: 0.0577 - activation_12_loss: 0.4581 - val_loss: 0.2658 - val_decode4_loss: 0.0578 - val_activation_12_loss: 0.5201\n",
      "Epoch 46/100\n",
      "10000/10000 [==============================] - 7s 734us/step - loss: 0.2435 - decode4_loss: 0.0578 - activation_12_loss: 0.4643 - val_loss: 0.7238 - val_decode4_loss: 0.0580 - val_activation_12_loss: 1.6647\n",
      "Epoch 47/100\n",
      "10000/10000 [==============================] - 7s 741us/step - loss: 0.2248 - decode4_loss: 0.0576 - activation_12_loss: 0.4179 - val_loss: 0.4487 - val_decode4_loss: 0.0579 - val_activation_12_loss: 0.9770\n",
      "Epoch 48/100\n",
      "10000/10000 [==============================] - 7s 736us/step - loss: 0.2326 - decode4_loss: 0.0577 - activation_12_loss: 0.4373 - val_loss: 0.4929 - val_decode4_loss: 0.0582 - val_activation_12_loss: 1.0867\n",
      "Epoch 49/100\n",
      "10000/10000 [==============================] - 7s 735us/step - loss: 0.2225 - decode4_loss: 0.0576 - activation_12_loss: 0.4122 - val_loss: 0.4155 - val_decode4_loss: 0.0580 - val_activation_12_loss: 0.8938\n",
      "Epoch 50/100\n",
      "10000/10000 [==============================] - 7s 739us/step - loss: 0.2192 - decode4_loss: 0.0575 - activation_12_loss: 0.4042 - val_loss: 0.3606 - val_decode4_loss: 0.0583 - val_activation_12_loss: 0.7555\n",
      "Epoch 51/100\n",
      "10000/10000 [==============================] - 7s 740us/step - loss: 0.2323 - decode4_loss: 0.0576 - activation_12_loss: 0.4367 - val_loss: 0.3394 - val_decode4_loss: 0.0576 - val_activation_12_loss: 0.7043\n",
      "Epoch 52/100\n",
      "10000/10000 [==============================] - 7s 738us/step - loss: 0.2104 - decode4_loss: 0.0575 - activation_12_loss: 0.3822 - val_loss: 0.3256 - val_decode4_loss: 0.0582 - val_activation_12_loss: 0.6685\n",
      "Epoch 53/100\n",
      "10000/10000 [==============================] - 7s 734us/step - loss: 0.2105 - decode4_loss: 0.0573 - activation_12_loss: 0.3828 - val_loss: 0.4761 - val_decode4_loss: 0.0574 - val_activation_12_loss: 1.0469\n",
      "Epoch 54/100\n",
      "10000/10000 [==============================] - 7s 740us/step - loss: 0.2156 - decode4_loss: 0.0572 - activation_12_loss: 0.3959 - val_loss: 0.3357 - val_decode4_loss: 0.0573 - val_activation_12_loss: 0.6959\n",
      "Epoch 55/100\n",
      "10000/10000 [==============================] - 8s 816us/step - loss: 0.2117 - decode4_loss: 0.0572 - activation_12_loss: 0.3861 - val_loss: 0.3570 - val_decode4_loss: 0.0577 - val_activation_12_loss: 0.7482\n",
      "Epoch 56/100\n",
      "10000/10000 [==============================] - 8s 790us/step - loss: 0.2136 - decode4_loss: 0.0573 - activation_12_loss: 0.3908 - val_loss: 0.3753 - val_decode4_loss: 0.0575 - val_activation_12_loss: 0.7945\n",
      "Epoch 57/100\n",
      "10000/10000 [==============================] - 7s 740us/step - loss: 0.2165 - decode4_loss: 0.0573 - activation_12_loss: 0.3980 - val_loss: 0.5058 - val_decode4_loss: 0.0578 - val_activation_12_loss: 1.1200\n",
      "Epoch 58/100\n",
      "10000/10000 [==============================] - 7s 737us/step - loss: 0.2084 - decode4_loss: 0.0572 - activation_12_loss: 0.3780 - val_loss: 0.4242 - val_decode4_loss: 0.0576 - val_activation_12_loss: 0.9165\n",
      "Epoch 59/100\n",
      "10000/10000 [==============================] - 7s 738us/step - loss: 0.2008 - decode4_loss: 0.0572 - activation_12_loss: 0.3590 - val_loss: 0.4911 - val_decode4_loss: 0.0575 - val_activation_12_loss: 1.0840\n",
      "Epoch 60/100\n",
      "10000/10000 [==============================] - 8s 802us/step - loss: 0.2081 - decode4_loss: 0.0572 - activation_12_loss: 0.3771 - val_loss: 0.3240 - val_decode4_loss: 0.0574 - val_activation_12_loss: 0.6665\n",
      "Epoch 61/100\n",
      "10000/10000 [==============================] - 8s 832us/step - loss: 0.2067 - decode4_loss: 0.0572 - activation_12_loss: 0.3736 - val_loss: 0.7902 - val_decode4_loss: 0.0576 - val_activation_12_loss: 1.8315\n",
      "Epoch 62/100\n",
      "10000/10000 [==============================] - 7s 735us/step - loss: 0.2131 - decode4_loss: 0.0572 - activation_12_loss: 0.3896 - val_loss: 0.4506 - val_decode4_loss: 0.0573 - val_activation_12_loss: 0.9833\n",
      "Epoch 63/100\n",
      "10000/10000 [==============================] - 7s 739us/step - loss: 0.2044 - decode4_loss: 0.0571 - activation_12_loss: 0.3681 - val_loss: 0.6413 - val_decode4_loss: 0.0574 - val_activation_12_loss: 1.4596\n",
      "Epoch 64/100\n",
      "10000/10000 [==============================] - 7s 737us/step - loss: 0.2088 - decode4_loss: 0.0570 - activation_12_loss: 0.3794 - val_loss: 0.3695 - val_decode4_loss: 0.0576 - val_activation_12_loss: 0.7799\n",
      "Epoch 65/100\n",
      "10000/10000 [==============================] - 8s 754us/step - loss: 0.2064 - decode4_loss: 0.0571 - activation_12_loss: 0.3731 - val_loss: 0.5027 - val_decode4_loss: 0.0573 - val_activation_12_loss: 1.1134\n",
      "Epoch 66/100\n",
      "10000/10000 [==============================] - 8s 837us/step - loss: 0.1897 - decode4_loss: 0.0569 - activation_12_loss: 0.3320 - val_loss: 0.4064 - val_decode4_loss: 0.0574 - val_activation_12_loss: 0.8724\n",
      "Epoch 67/100\n",
      "10000/10000 [==============================] - 7s 725us/step - loss: 0.1849 - decode4_loss: 0.0569 - activation_12_loss: 0.3202 - val_loss: 0.4889 - val_decode4_loss: 0.0568 - val_activation_12_loss: 1.0801\n",
      "Epoch 68/100\n",
      "10000/10000 [==============================] - 7s 731us/step - loss: 0.2008 - decode4_loss: 0.0569 - activation_12_loss: 0.3598 - val_loss: 0.5750 - val_decode4_loss: 0.0574 - val_activation_12_loss: 1.2939\n",
      "Epoch 69/100\n",
      "10000/10000 [==============================] - 7s 728us/step - loss: 0.1936 - decode4_loss: 0.0569 - activation_12_loss: 0.3419 - val_loss: 0.2928 - val_decode4_loss: 0.0573 - val_activation_12_loss: 0.5888\n",
      "Epoch 70/100\n",
      "10000/10000 [==============================] - 7s 733us/step - loss: 0.1883 - decode4_loss: 0.0567 - activation_12_loss: 0.3289 - val_loss: 0.4530 - val_decode4_loss: 0.0567 - val_activation_12_loss: 0.9908\n",
      "Epoch 71/100\n",
      "10000/10000 [==============================] - 7s 731us/step - loss: 0.1962 - decode4_loss: 0.0566 - activation_12_loss: 0.3489 - val_loss: 0.5357 - val_decode4_loss: 0.0571 - val_activation_12_loss: 1.1967\n",
      "Epoch 72/100\n",
      "10000/10000 [==============================] - 7s 734us/step - loss: 0.1902 - decode4_loss: 0.0565 - activation_12_loss: 0.3342 - val_loss: 0.2428 - val_decode4_loss: 0.0567 - val_activation_12_loss: 0.4654\n",
      "Epoch 73/100\n",
      "10000/10000 [==============================] - 7s 738us/step - loss: 0.1831 - decode4_loss: 0.0565 - activation_12_loss: 0.3166 - val_loss: 0.7768 - val_decode4_loss: 0.0567 - val_activation_12_loss: 1.8003\n",
      "Epoch 74/100\n",
      "10000/10000 [==============================] - 7s 735us/step - loss: 0.1819 - decode4_loss: 0.0565 - activation_12_loss: 0.3136 - val_loss: 0.7144 - val_decode4_loss: 0.0571 - val_activation_12_loss: 1.6432\n",
      "Epoch 75/100\n",
      "10000/10000 [==============================] - 7s 731us/step - loss: 0.1865 - decode4_loss: 0.0565 - activation_12_loss: 0.3250 - val_loss: 0.6536 - val_decode4_loss: 0.0567 - val_activation_12_loss: 1.4923\n",
      "Epoch 76/100\n",
      "10000/10000 [==============================] - 8s 766us/step - loss: 0.1936 - decode4_loss: 0.0565 - activation_12_loss: 0.3428 - val_loss: 0.7288 - val_decode4_loss: 0.0567 - val_activation_12_loss: 1.6803\n",
      "Epoch 77/100\n",
      "10000/10000 [==============================] - 8s 825us/step - loss: 0.1989 - decode4_loss: 0.0565 - activation_12_loss: 0.3559 - val_loss: 0.5493 - val_decode4_loss: 0.0567 - val_activation_12_loss: 1.2315\n",
      "Epoch 78/100\n",
      "10000/10000 [==============================] - 7s 730us/step - loss: 0.1777 - decode4_loss: 0.0564 - activation_12_loss: 0.3030 - val_loss: 0.4024 - val_decode4_loss: 0.0565 - val_activation_12_loss: 0.8647\n",
      "Epoch 79/100\n",
      "10000/10000 [==============================] - 7s 731us/step - loss: 0.1849 - decode4_loss: 0.0564 - activation_12_loss: 0.3213 - val_loss: 0.3537 - val_decode4_loss: 0.0567 - val_activation_12_loss: 0.7424\n",
      "Epoch 80/100\n",
      "10000/10000 [==============================] - 7s 736us/step - loss: 0.1794 - decode4_loss: 0.0564 - activation_12_loss: 0.3075 - val_loss: 1.0170 - val_decode4_loss: 0.0566 - val_activation_12_loss: 2.4010\n",
      "Epoch 81/100\n",
      "10000/10000 [==============================] - 7s 730us/step - loss: 0.1851 - decode4_loss: 0.0564 - activation_12_loss: 0.3216 - val_loss: 1.1604 - val_decode4_loss: 0.0570 - val_activation_12_loss: 2.7586\n",
      "Epoch 82/100\n",
      "10000/10000 [==============================] - 7s 723us/step - loss: 0.1925 - decode4_loss: 0.0564 - activation_12_loss: 0.3401 - val_loss: 0.4577 - val_decode4_loss: 0.0569 - val_activation_12_loss: 1.0019\n",
      "Epoch 83/100\n",
      "10000/10000 [==============================] - 8s 808us/step - loss: 0.1768 - decode4_loss: 0.0564 - activation_12_loss: 0.3012 - val_loss: 0.4887 - val_decode4_loss: 0.0564 - val_activation_12_loss: 1.0808\n",
      "Epoch 84/100\n",
      "10000/10000 [==============================] - 7s 727us/step - loss: 0.1786 - decode4_loss: 0.0562 - activation_12_loss: 0.3060 - val_loss: 0.3688 - val_decode4_loss: 0.0564 - val_activation_12_loss: 0.7810\n",
      "Epoch 85/100\n",
      "10000/10000 [==============================] - 7s 731us/step - loss: 0.1770 - decode4_loss: 0.0561 - activation_12_loss: 0.3022 - val_loss: 0.5055 - val_decode4_loss: 0.0564 - val_activation_12_loss: 1.1226\n",
      "Epoch 86/100\n",
      "10000/10000 [==============================] - 7s 731us/step - loss: 0.1746 - decode4_loss: 0.0561 - activation_12_loss: 0.2962 - val_loss: 0.4936 - val_decode4_loss: 0.0564 - val_activation_12_loss: 1.0931\n",
      "Epoch 87/100\n",
      "10000/10000 [==============================] - 8s 797us/step - loss: 0.1768 - decode4_loss: 0.0561 - activation_12_loss: 0.3016 - val_loss: 1.2873 - val_decode4_loss: 0.0564 - val_activation_12_loss: 3.0770\n",
      "Epoch 88/100\n",
      "10000/10000 [==============================] - 8s 791us/step - loss: 0.1754 - decode4_loss: 0.0561 - activation_12_loss: 0.2982 - val_loss: 0.4543 - val_decode4_loss: 0.0566 - val_activation_12_loss: 0.9942\n",
      "Epoch 89/100\n",
      "10000/10000 [==============================] - 7s 730us/step - loss: 0.1752 - decode4_loss: 0.0561 - activation_12_loss: 0.2976 - val_loss: 0.3865 - val_decode4_loss: 0.0564 - val_activation_12_loss: 0.8251\n",
      "Epoch 90/100\n",
      "10000/10000 [==============================] - 7s 730us/step - loss: 0.1785 - decode4_loss: 0.0561 - activation_12_loss: 0.3060 - val_loss: 1.3195 - val_decode4_loss: 0.0568 - val_activation_12_loss: 3.1568\n",
      "Epoch 91/100\n",
      "10000/10000 [==============================] - 7s 731us/step - loss: 0.1774 - decode4_loss: 0.0561 - activation_12_loss: 0.3033 - val_loss: 0.4366 - val_decode4_loss: 0.0563 - val_activation_12_loss: 0.9507\n",
      "Epoch 92/100\n",
      "10000/10000 [==============================] - 7s 729us/step - loss: 0.1665 - decode4_loss: 0.0560 - activation_12_loss: 0.2762 - val_loss: 0.3973 - val_decode4_loss: 0.0564 - val_activation_12_loss: 0.8522\n",
      "Epoch 93/100\n",
      "10000/10000 [==============================] - 7s 727us/step - loss: 0.1769 - decode4_loss: 0.0561 - activation_12_loss: 0.3020 - val_loss: 0.6121 - val_decode4_loss: 0.0563 - val_activation_12_loss: 1.3895\n",
      "Epoch 94/100\n",
      "10000/10000 [==============================] - 7s 728us/step - loss: 0.1673 - decode4_loss: 0.0561 - activation_12_loss: 0.2780 - val_loss: 0.4390 - val_decode4_loss: 0.0563 - val_activation_12_loss: 0.9567\n",
      "Epoch 95/100\n",
      "10000/10000 [==============================] - 7s 732us/step - loss: 0.1696 - decode4_loss: 0.0561 - activation_12_loss: 0.2839 - val_loss: 0.9005 - val_decode4_loss: 0.0568 - val_activation_12_loss: 2.1092\n",
      "Epoch 96/100\n",
      "10000/10000 [==============================] - 7s 727us/step - loss: 0.1775 - decode4_loss: 0.0561 - activation_12_loss: 0.3035 - val_loss: 0.7615 - val_decode4_loss: 0.0564 - val_activation_12_loss: 1.7629\n",
      "Epoch 97/100\n",
      "10000/10000 [==============================] - 7s 736us/step - loss: 0.1697 - decode4_loss: 0.0561 - activation_12_loss: 0.2842 - val_loss: 0.6562 - val_decode4_loss: 0.0563 - val_activation_12_loss: 1.5000\n",
      "Epoch 98/100\n",
      "10000/10000 [==============================] - 8s 813us/step - loss: 0.1616 - decode4_loss: 0.0561 - activation_12_loss: 0.2638 - val_loss: 0.4980 - val_decode4_loss: 0.0564 - val_activation_12_loss: 1.1042\n",
      "Epoch 99/100\n",
      "10000/10000 [==============================] - 8s 776us/step - loss: 0.1704 - decode4_loss: 0.0561 - activation_12_loss: 0.2857 - val_loss: 0.5117 - val_decode4_loss: 0.0564 - val_activation_12_loss: 1.1383\n",
      "Epoch 100/100\n",
      "10000/10000 [==============================] - 7s 729us/step - loss: 0.1706 - decode4_loss: 0.0560 - activation_12_loss: 0.2864 - val_loss: 0.3856 - val_decode4_loss: 0.0566 - val_activation_12_loss: 0.8226\n"
     ]
    }
   ],
   "source": [
    "from keras import optimizers\n",
    "\n",
    "sae.compile(loss=['mean_squared_error', 'categorical_crossentropy'],\n",
    "            loss_weights=[1, 0.4], # to be tuned\n",
    "            optimizer=optimizers.RMSprop(lr=1E-3))\n",
    "\n",
    "history = sae.fit(x_tr, [x_tr, y_tr], \n",
    "                  batch_size=32, \n",
    "                  epochs=100, \n",
    "                  validation_data=(x_val, [x_val, y_val]))"
   ]
  },
  {
   "cell_type": "code",
   "execution_count": 58,
   "metadata": {
    "colab": {
     "base_uri": "https://localhost:8080/",
     "height": 283
    },
    "colab_type": "code",
    "id": "WUQMOB8RFT8l",
    "outputId": "9fa7ba5d-dde0-4b0e-9c40-cffac864b3b6"
   },
   "outputs": [
    {
     "data": {
      "image/png": "[encoded data removed]",
      "text/plain": [
       "<Figure size 432x288 with 1 Axes>"
      ]
     },
     "metadata": {
      "tags": []
     },
     "output_type": "display_data"
    }
   ],
   "source": [
    "import matplotlib.pyplot as plt\n",
    "%matplotlib inline\n",
    "\n",
    "loss = history.history['loss']\n",
    "val_loss = history.history['val_loss']\n",
    "\n",
    "epochs = range(len(loss))\n",
    "\n",
    "plt.plot(epochs, loss, 'bo', label='Training Loss')\n",
    "plt.plot(epochs, val_loss, 'r', label='Validation Loss')\n",
    "plt.xlabel('Epochs')\n",
    "plt.ylabel('Loss')\n",
    "plt.legend()\n",
    "plt.show()"
   ]
  },
  {
   "cell_type": "markdown",
   "metadata": {
    "colab_type": "text",
    "id": "f5MExs5TFT8n"
   },
   "source": [
    "### Question\n",
    "\n",
    "Do you think overfitting is happening? If yes, what can you do? Please make necessary changes to the supervised autoencoder network structure.\n",
    "\n",
    "**Failing to add proper regularization will lose 1~2 scores.**"
   ]
  },
  {
   "cell_type": "markdown",
   "metadata": {
    "colab_type": "text",
    "id": "sUiHitdIFT8n"
   },
   "source": [
    "### 4.3. Visualize the reconstructed test images"
   ]
  },
  {
   "cell_type": "code",
   "execution_count": 59,
   "metadata": {
    "colab": {
     "base_uri": "https://localhost:8080/",
     "height": 729
    },
    "colab_type": "code",
    "id": "jq2AUYl0FT8o",
    "outputId": "6123db7e-1ed4-41c4-e002-5b807e96e2e5"
   },
   "outputs": [
    {
     "data": {
      "image/png": "[encoded data removed]",
      "text/plain": [
       "<Figure size 576x720 with 20 Axes>"
      ]
     },
     "metadata": {
      "tags": []
     },
     "output_type": "display_data"
    }
   ],
   "source": [
    "sae_output = sae.predict(x_test)[0].reshape((10000, 28, 28))\n",
    "\n",
    "ROW = 5\n",
    "COLUMN = 4\n",
    "\n",
    "x = sae_output\n",
    "fname = 'reconstruct_sae.pdf'\n",
    "\n",
    "fig, axes = plt.subplots(nrows=ROW, ncols=COLUMN, figsize=(8, 10))\n",
    "for ax, i in zip(axes.flat, numpy.arange(ROW*COLUMN)):\n",
    "    image = x[i].reshape(28, 28)\n",
    "    ax.imshow(image, cmap='gray')\n",
    "    ax.axis('off')\n",
    "\n",
    "plt.tight_layout()\n",
    "plt.savefig(fname)\n",
    "plt.show()"
   ]
  },
  {
   "cell_type": "markdown",
   "metadata": {
    "colab_type": "text",
    "id": "kP78-yzVFT8q"
   },
   "source": [
    "### 4.4. Visualize the low-dimensional features"
   ]
  },
  {
   "cell_type": "code",
   "execution_count": 60,
   "metadata": {
    "colab": {
     "base_uri": "https://localhost:8080/",
     "height": 306
    },
    "colab_type": "code",
    "id": "r-ssN0yqFT8r",
    "outputId": "9ba16982-821b-41a2-f486-1545b225b37a"
   },
   "outputs": [
    {
     "name": "stdout",
     "output_type": "stream",
     "text": [
      "_________________________________________________________________\n",
      "Layer (type)                 Output Shape              Param #   \n",
      "=================================================================\n",
      "input_img (InputLayer)       (None, 784)               0         \n",
      "_________________________________________________________________\n",
      "encode1 (Dense)              (None, 128)               100480    \n",
      "_________________________________________________________________\n",
      "encode2 (Dense)              (None, 32)                4128      \n",
      "_________________________________________________________________\n",
      "encode3 (Dense)              (None, 8)                 264       \n",
      "_________________________________________________________________\n",
      "bottleneck (Dense)           (None, 2)                 18        \n",
      "=================================================================\n",
      "Total params: 104,890\n",
      "Trainable params: 104,890\n",
      "Non-trainable params: 0\n",
      "_________________________________________________________________\n"
     ]
    }
   ],
   "source": [
    "# build the encoder model\n",
    "sae_encoder = models.Model(input_img, bottleneck)\n",
    "sae_encoder.summary()"
   ]
  },
  {
   "cell_type": "code",
   "execution_count": 61,
   "metadata": {
    "colab": {
     "base_uri": "https://localhost:8080/",
     "height": 602
    },
    "colab_type": "code",
    "id": "ElbhNBhvFT8t",
    "outputId": "26bc8b8b-ed3f-4e76-8164-c2692f743999",
    "scrolled": true
   },
   "outputs": [
    {
     "name": "stdout",
     "output_type": "stream",
     "text": [
      "Shape of encoded_test: (10000, 2)\n"
     ]
    },
    {
     "data": {
      "image/png": "[encoded data removed]",
      "text/plain": [
       "<Figure size 576x576 with 1 Axes>"
      ]
     },
     "metadata": {
      "tags": []
     },
     "output_type": "display_data"
    }
   ],
   "source": [
    "# extract test features\n",
    "encoded_test = sae_encoder.predict(x_test)\n",
    "print('Shape of encoded_test: ' + str(encoded_test.shape))\n",
    "\n",
    "colors = numpy.array(['r', 'g', 'b', 'm', 'c', 'k', 'y', 'purple', 'darkred', 'navy'])\n",
    "colors_test = colors[y_test]\n",
    "\n",
    "\n",
    "import matplotlib.pyplot as plt\n",
    "%matplotlib inline\n",
    "\n",
    "fig = plt.figure(figsize=(8, 8))\n",
    "plt.scatter(encoded_test[:, 0], encoded_test[:, 1], s=10, c=colors_test, edgecolors=colors_test)\n",
    "plt.axis('off')\n",
    "plt.tight_layout()\n",
    "fname = 'sae_code.pdf'\n",
    "plt.savefig(fname)"
   ]
  },
  {
   "cell_type": "markdown",
   "metadata": {
    "colab_type": "text",
    "id": "wCLiRujJFT8v"
   },
   "source": [
    "### 4.5. Are the learned low-dim features discriminative?\n",
    "\n",
    "To find the answer, lets train a classifier on the training set (the extracted 2-dim features) and evaluation on the test set.\n"
   ]
  },
  {
   "cell_type": "code",
   "execution_count": 0,
   "metadata": {
    "colab": {},
    "colab_type": "code",
    "id": "xV1zT16AFT8v"
   },
   "outputs": [],
   "source": [
    "# extract 2D features from the training, validation, and test samples\n",
    "f_tr = sae_encoder.predict(x_tr)\n",
    "f_val = sae_encoder.predict(x_val)\n",
    "f_te = sae_encoder.predict(x_test)"
   ]
  },
  {
   "cell_type": "code",
   "execution_count": 63,
   "metadata": {
    "colab": {
     "base_uri": "https://localhost:8080/",
     "height": 272
    },
    "colab_type": "code",
    "id": "mBRDDeNlFT8y",
    "outputId": "a2930286-9110-4866-8ffd-d2457f2e49c2"
   },
   "outputs": [
    {
     "name": "stdout",
     "output_type": "stream",
     "text": [
      "_________________________________________________________________\n",
      "Layer (type)                 Output Shape              Param #   \n",
      "=================================================================\n",
      "input_4 (InputLayer)         (None, 2)                 0         \n",
      "_________________________________________________________________\n",
      "classifier1 (Dense)          (None, 128)               384       \n",
      "_________________________________________________________________\n",
      "classifier2 (Dense)          (None, 128)               16512     \n",
      "_________________________________________________________________\n",
      "classifier3 (Dense)          (None, 10)                1290      \n",
      "=================================================================\n",
      "Total params: 18,186\n",
      "Trainable params: 18,186\n",
      "Non-trainable params: 0\n",
      "_________________________________________________________________\n"
     ]
    }
   ],
   "source": [
    "# build a classifier which takes the 2D features as input\n",
    "from keras.layers import Dense, Input\n",
    "from keras import models\n",
    "\n",
    "input_feat = Input(shape=(2,))\n",
    "\n",
    "classifier1 = Dense(128, activation='relu', name='classifier1')(input_feat)\n",
    "classifier2 = Dense(128, activation='relu', name='classifier2')(classifier1)\n",
    "output = Dense(10, activation='softmax', name='classifier3')(classifier2)\n",
    "\n",
    "classifier = models.Model(input_feat, output)\n",
    "\n",
    "classifier.summary()"
   ]
  },
  {
   "cell_type": "code",
   "execution_count": 64,
   "metadata": {
    "colab": {
     "base_uri": "https://localhost:8080/",
     "height": 1054
    },
    "colab_type": "code",
    "id": "fsJbgaKTFT80",
    "outputId": "432153b5-80ab-418f-e381-ddea8a7a45fe"
   },
   "outputs": [
    {
     "name": "stdout",
     "output_type": "stream",
     "text": [
      "Train on 10000 samples, validate on 50000 samples\n",
      "Epoch 1/30\n",
      "10000/10000 [==============================] - 4s 387us/step - loss: 2.1172 - acc: 0.2413 - val_loss: 2.0260 - val_acc: 0.2847\n",
      "Epoch 2/30\n",
      "10000/10000 [==============================] - 3s 280us/step - loss: 1.9585 - acc: 0.2746 - val_loss: 1.9101 - val_acc: 0.2410\n",
      "Epoch 3/30\n",
      "10000/10000 [==============================] - 3s 278us/step - loss: 1.8202 - acc: 0.2275 - val_loss: 1.7581 - val_acc: 0.2989\n",
      "Epoch 4/30\n",
      "10000/10000 [==============================] - 3s 277us/step - loss: 1.6475 - acc: 0.3347 - val_loss: 1.5885 - val_acc: 0.4683\n",
      "Epoch 5/30\n",
      "10000/10000 [==============================] - 3s 279us/step - loss: 1.4740 - acc: 0.4963 - val_loss: 1.4357 - val_acc: 0.5124\n",
      "Epoch 6/30\n",
      "10000/10000 [==============================] - 3s 278us/step - loss: 1.3192 - acc: 0.6094 - val_loss: 1.3071 - val_acc: 0.7121\n",
      "Epoch 7/30\n",
      "10000/10000 [==============================] - 3s 277us/step - loss: 1.1852 - acc: 0.7214 - val_loss: 1.2001 - val_acc: 0.7437\n",
      "Epoch 8/30\n",
      "10000/10000 [==============================] - 3s 277us/step - loss: 1.0690 - acc: 0.8198 - val_loss: 1.1124 - val_acc: 0.7958\n",
      "Epoch 9/30\n",
      "10000/10000 [==============================] - 3s 279us/step - loss: 0.9644 - acc: 0.8640 - val_loss: 1.0412 - val_acc: 0.7961\n",
      "Epoch 10/30\n",
      "10000/10000 [==============================] - 3s 279us/step - loss: 0.8768 - acc: 0.8905 - val_loss: 0.9798 - val_acc: 0.8247\n",
      "Epoch 11/30\n",
      "10000/10000 [==============================] - 3s 299us/step - loss: 0.8016 - acc: 0.9049 - val_loss: 0.9310 - val_acc: 0.8454\n",
      "Epoch 12/30\n",
      "10000/10000 [==============================] - 3s 320us/step - loss: 0.7366 - acc: 0.9128 - val_loss: 0.8914 - val_acc: 0.9100\n",
      "Epoch 13/30\n",
      "10000/10000 [==============================] - 3s 322us/step - loss: 0.6815 - acc: 0.9166 - val_loss: 0.8561 - val_acc: 0.8744\n",
      "Epoch 14/30\n",
      "10000/10000 [==============================] - 3s 304us/step - loss: 0.6334 - acc: 0.9275 - val_loss: 0.8279 - val_acc: 0.8890\n",
      "Epoch 15/30\n",
      "10000/10000 [==============================] - 3s 275us/step - loss: 0.5910 - acc: 0.9376 - val_loss: 0.8037 - val_acc: 0.9082\n",
      "Epoch 16/30\n",
      "10000/10000 [==============================] - 3s 279us/step - loss: 0.5532 - acc: 0.9408 - val_loss: 0.7837 - val_acc: 0.9139\n",
      "Epoch 17/30\n",
      "10000/10000 [==============================] - 3s 277us/step - loss: 0.5191 - acc: 0.9514 - val_loss: 0.7667 - val_acc: 0.8960\n",
      "Epoch 18/30\n",
      "10000/10000 [==============================] - 3s 274us/step - loss: 0.4884 - acc: 0.9570 - val_loss: 0.7534 - val_acc: 0.8756\n",
      "Epoch 19/30\n",
      "10000/10000 [==============================] - 3s 275us/step - loss: 0.4607 - acc: 0.9590 - val_loss: 0.7446 - val_acc: 0.9064\n",
      "Epoch 20/30\n",
      "10000/10000 [==============================] - 3s 276us/step - loss: 0.4380 - acc: 0.9647 - val_loss: 0.7360 - val_acc: 0.9146\n",
      "Epoch 21/30\n",
      "10000/10000 [==============================] - 3s 277us/step - loss: 0.4178 - acc: 0.9712 - val_loss: 0.7281 - val_acc: 0.9135\n",
      "Epoch 22/30\n",
      "10000/10000 [==============================] - 3s 275us/step - loss: 0.3996 - acc: 0.9730 - val_loss: 0.7228 - val_acc: 0.9138\n",
      "Epoch 23/30\n",
      "10000/10000 [==============================] - 3s 278us/step - loss: 0.3827 - acc: 0.9743 - val_loss: 0.7196 - val_acc: 0.9160\n",
      "Epoch 24/30\n",
      "10000/10000 [==============================] - 3s 276us/step - loss: 0.3687 - acc: 0.9782 - val_loss: 0.7151 - val_acc: 0.9126\n",
      "Epoch 25/30\n",
      "10000/10000 [==============================] - 3s 276us/step - loss: 0.3554 - acc: 0.9786 - val_loss: 0.7160 - val_acc: 0.9135\n",
      "Epoch 26/30\n",
      "10000/10000 [==============================] - 3s 275us/step - loss: 0.3442 - acc: 0.9797 - val_loss: 0.7152 - val_acc: 0.9152\n",
      "Epoch 27/30\n",
      "10000/10000 [==============================] - 3s 275us/step - loss: 0.3340 - acc: 0.9811 - val_loss: 0.7128 - val_acc: 0.9149\n",
      "Epoch 28/30\n",
      "10000/10000 [==============================] - 3s 278us/step - loss: 0.3249 - acc: 0.9820 - val_loss: 0.7121 - val_acc: 0.9153\n",
      "Epoch 29/30\n",
      "10000/10000 [==============================] - 3s 277us/step - loss: 0.3164 - acc: 0.9817 - val_loss: 0.7141 - val_acc: 0.9135\n",
      "Epoch 30/30\n",
      "10000/10000 [==============================] - 3s 275us/step - loss: 0.3086 - acc: 0.9821 - val_loss: 0.7160 - val_acc: 0.9113\n"
     ]
    }
   ],
   "source": [
    "classifier.compile(loss='categorical_crossentropy',\n",
    "                  optimizer=optimizers.RMSprop(lr=1E-4),\n",
    "                  metrics=['acc'])\n",
    "\n",
    "history = classifier.fit(f_tr, y_tr, \n",
    "                        batch_size=32, \n",
    "                        epochs=30, \n",
    "                        validation_data=(f_val, y_val))"
   ]
  },
  {
   "cell_type": "markdown",
   "metadata": {
    "colab_type": "text",
    "id": "qSn5ozeEFT82"
   },
   "source": [
    "#### Remark:\n",
    "\n",
    "The validation accuracy must be above 90%. It means the low-dim features learned by the supervised autoencoder are very effective."
   ]
  },
  {
   "cell_type": "code",
   "execution_count": 65,
   "metadata": {
    "colab": {
     "base_uri": "https://localhost:8080/",
     "height": 68
    },
    "colab_type": "code",
    "id": "zXdRV8uCFT82",
    "outputId": "8ccb302f-7cd6-4914-e939-605dee8960dd"
   },
   "outputs": [
    {
     "name": "stdout",
     "output_type": "stream",
     "text": [
      "10000/10000 [==============================] - 0s 43us/step\n",
      "loss = 0.6932149305343628\n",
      "accuracy = 0.916\n"
     ]
    }
   ],
   "source": [
    "loss_and_acc = classifier.evaluate(f_te, y_test_vec)\n",
    "print('loss = ' + str(loss_and_acc[0]))\n",
    "print('accuracy = ' + str(loss_and_acc[1]))"
   ]
  }
 ],
 "metadata": {
  "accelerator": "GPU",
  "colab": {
   "name": "sae.ipynb",
   "provenance": [],
   "version": "0.3.2"
  },
  "kernelspec": {
   "display_name": "Python 3",
   "language": "python",
   "name": "python3"
  },
  "language_info": {
   "codemirror_mode": {
    "name": "ipython",
    "version": 3
   },
   "file_extension": ".py",
   "mimetype": "text/x-python",
   "name": "python",
   "nbconvert_exporter": "python",
   "pygments_lexer": "ipython3",
   "version": "3.7.1"
  }
 },
 "nbformat": 4,
 "nbformat_minor": 1
}
